{
  "cells": [
    {
      "metadata": {
        "collapsed": true
      },
      "cell_type": "markdown",
      "source": "### HW\n#### Q1\nIn the theory of probability and statistics, a Bernoulli trial (or binomial trial) is a random experiment with exactly two possible outcomes, \"success\" and \"failure\", in which the probability of success is the same every time the experiment is conducted.\n\n1. Genrate Binomial Random number with Probability of .3 for n = 10000 and between 0 and 1\n2. In the random number 1 is treated as success, count the number of times we get Success (1) in each n trial.\n3. Store the infomation of Success and Failure and Success Rate for each set of n trials.\n4. Repeat the set 100 times, and then we will 100 Success data points from each trails.\n5. Calcaulte the Confidence Interval of 95% from this data set."
    },
    {
      "metadata": {
        "trusted": true
      },
      "cell_type": "code",
      "source": "%matplotlib inline\nimport pandas as pd\nimport matplotlib.pyplot as plt\nimport numpy as np\nfrom scipy import stats",
      "execution_count": 2,
      "outputs": [
        {
          "output_type": "stream",
          "text": "/home/nbuser/anaconda3_501/lib/python3.6/site-packages/matplotlib/font_manager.py:229: UserWarning: Matplotlib is building the font cache using fc-list. This may take a moment.\n  'Matplotlib is building the font cache using fc-list. '\n",
          "name": "stderr"
        }
      ]
    },
    {
      "metadata": {
        "trusted": true
      },
      "cell_type": "code",
      "source": "# Count number of success and Failure \nn , p = 10000, .3 # n=# number of trials\nresults=np.array([])\nresultf=np.array([])\nfor i in range(0,100):\n    sam= np.random.binomial(1, p,n)\n    success = 0\n    faiure =0\n    for s in sam:\n        if (s==1):\n#             print(\"i\",s,\"..........\",i)\n            success = success+ 1\n        else:\n            faiure = faiure + 1\n            \n    results= np.append(results,success)\n    resultf= np.append(resultf,faiure)",
      "execution_count": 10,
      "outputs": []
    },
    {
      "metadata": {
        "trusted": true
      },
      "cell_type": "code",
      "source": "dfExp = pd.DataFrame({'Success': results,'Failure':resultf,'SRate':results/n})\n# Get the Mean, StdDev, and 95% CI of the means\n# means = df['mean']\nm = dfExp.SRate.mean()\nsd = dfExp.SRate.std()\nci = stats.norm.interval(0.95, m, sd)\n    \n\n# Plot the distribution, mean, and CI\ndfExp.SRate.plot.hist(title='Simulated Sampling Distribution') \nplt.axvline(m, color='red', linestyle='dashed', linewidth=2)\nplt.axvline(ci[0], color='magenta', linestyle='dashed', linewidth=2)\nplt.axvline(ci[1], color='magenta', linestyle='dashed', linewidth=2)\nplt.show()\n\n# Print the Mean, StdDev and 95% CI\nprint ('Sampling Mean: ' + str(m))\nprint ('Sampling Std Deviation: ' + str(sd))\nprint ('95% Confidence Interval: ' + str(ci))",
      "execution_count": 11,
      "outputs": [
        {
          "output_type": "display_data",
          "data": {
            "image/png": "[encoded data removed]",
            "text/plain": "<Figure size 432x288 with 1 Axes>"
          },
          "metadata": {
            "needs_background": "light"
          }
        },
        {
          "output_type": "stream",
          "text": "Sampling Mean: 0.30043499999999995\nSampling Std Deviation: 0.004766854732462911\n95% Confidence Interval: (0.29109213640483833, 0.3097778635951616)\n",
          "name": "stdout"
        }
      ]
    },
    {
      "metadata": {},
      "cell_type": "markdown",
      "source": "True value of .3 is included within the confidence limits. (0.2911, 0.3098)"
    },
    {
      "metadata": {
        "trusted": true
      },
      "cell_type": "code",
      "source": "# Determine how many of the 100 experiments fall within the confidence interval\npthree = len(dfExp[(dfExp.SRate <= 0.3086106238190816) &(dfExp.SRate >= 0.29136937618091835)])\nprint(\"True value of .3 is included within the confidence limits =\",pthree)",
      "execution_count": 14,
      "outputs": [
        {
          "output_type": "stream",
          "text": "True value of .3 is included within the confidence limits = 94\n",
          "name": "stdout"
        }
      ]
    },
    {
      "metadata": {
        "trusted": true
      },
      "cell_type": "code",
      "source": "",
      "execution_count": null,
      "outputs": []
    },
    {
      "metadata": {
        "trusted": true
      },
      "cell_type": "code",
      "source": "",
      "execution_count": null,
      "outputs": []
    },
    {
      "metadata": {},
      "cell_type": "markdown",
      "source": "#### Q2\nCalculate the expected value and variance of the binomial distribution using the moment generating function."
    },
    {
      "metadata": {},
      "cell_type": "markdown",
      "source": "For n independent Binomial trials, each of which has probability of success p and probability of failure 1 - p.\n$$ \\\\\np(1) = p \\\\\np(0) = 1 - p  \\\\\\textrm{For Random Varaible X, of the Binomial distribution the Moment Genrating Fucntion would be :} $$\n\n$$ M_X(t)= E(e^{tx}) \\\\\n\\textrm{For any X in the time t, the moment genrating fucntion would be :}\n=\\sum_{all X}^n e^{tx}p_X(x)..... \\textrm{here (x)  is probability of E(X)}\\\\\n\\textrm{ Enterting the probability of 0 and 1 i.e. success and Failure.}\\\\\n= e^{t*0}p_X(0) + e^{t*1}p_X(1)\\\\\n= e^{0}(1-p) + e^{t}p \\\\\n\\textrm{ since  e^{0} = 1, Moment genrating function would be: }\\\\\n= (1-p) + e^{t}p \n$$\n\n\n"
    },
    {
      "metadata": {},
      "cell_type": "markdown",
      "source": "Using MGF to find the Var(X)\n$$ \\textrm{Using MGM to find the Var(X)} \\\\\nvar(X)= E(X^{2})- M_{1}(E_X)^2 \\textrm{ i.e. 2nd Moment - square of 1st Moment} \\\\\n\\textrm{ We will Calculate }  M_{1}(E_X) \\ and \\ M_{2}(E_X) \\textrm{ and then evaluate each of them at t = 0.}\\\\ \\\\\nE(X) = \\frac{d}{dt} M_X(t) |_{t=0}\n=>\\frac{d}{dt}\\lbrack (1-p) + e^{t}p  \\rbrack |_{t=0} \\\\\n=> e^{t}p |_{t=0} \\\\\n=> p \\cdots\\cdots\\cdots \\cdots\\cdots\\cdots E(X)\\\\\n\\textrm{ Similarly E(X^2), can be calculated } \\\\\nE(X^2) = \\frac{d_2}{dt^2} M_X(t) |_{t=0} \\\\\n=>\\frac{d}{dt}\\lbrack (1-p) + e^{t}p  \\rbrack |_{t=0} \\\\\n=> e^{t}p |_{t=0} \\\\\n=> p \\cdots\\cdots\\cdots \\cdots\\cdots\\cdots E(X^2)\\\\\n\\\\ \\\\ \\\\\n\\textrm{Varaince of the Binomial Distribution =} Var(X) = p - p^2 \\\\\n= p(1-p)\n$$ \n\n\n"
    },
    {
      "metadata": {},
      "cell_type": "markdown",
      "source": "If we toss 100 coins, and X is the number of heads, the expected value of X is 50 = (1/2)100, we  will try to prove this with MGF.\n\n$$ \\textrm{Moment Genrating fucnation of all n would be} \\sum_{all X}^n M_X(t)= E(e^{t\\sum_{i=1}^n X_i} ) \\\\\n=E(e^{t\\sum_{i=1}^n x_1} ,e^{t\\sum_{i=1}^n x_2}, e^{t\\sum_{i=1}^n x_3}....e^{t\\sum_{i=1}^n x_n} )  \\\\\n=E(e^{t\\sum_{i=1}^n x_1})* E(e^{t\\sum_{i=1}^n x_2} )....E(e^{t\\sum_{i=1}^n x_n} )  \\textrm{......since each X_i is independent} \\\\\n= [(1-p) + e^{t}p][(1-p) + e^{t}p]...[(1-p) + e^{t}p ]   \\textrm {.........since we know E(x) (1-p) + e^{t}p  } \\\\\n= [(1-p) + e^{t}p ]^n => [M_X(t)]^n \\\\\n\\textrm{ Finiding the Expected value } \\\\ \nE(\\sum_{i=1}^n X_i) =  \\frac{d}{dt}[(1-p) + e^{t}p ]^n  \\space |_{t=0}   \\\\\n= n(1-p+pe^t)^{n-1} * pe^t |_{t=0}   \\\\\n= n( 1- p + p)p => np \\textrm { ..........which is the expected value of Binomial Distribution} \\\\\n\\textrm E((\\sum_{i=1}^n X_i)^2) = \\frac{d^2}{dt^2} (E(\\sum_{i=1}^n X_i)) \\space |_{t=0} \\\\\n= \\frac{d^2}{dt^2} n(1-p+pe^t)^{n-1} * pe^t  \\space |_{t=0}\n=n(n-1)(1- p + pe^t)^{n-2}(pe^t)^2 \\space |_{t=0}\n= n*p^2-n*p^2+n*p \\\\ \\\\ \n\\textrm {Varinace =} \\sum_{}^n X_i =  n*p^2-n*p^2+n*p - (np)^2 \\\\\n= np(1-p)\n$$\n\n"
    },
    {
      "metadata": {},
      "cell_type": "markdown",
      "source": "#### Q3\nCalculate the expected value and variance of the exponential distribution using the moment generating function."
    },
    {
      "metadata": {
        "trusted": true
      },
      "cell_type": "markdown",
      "source": "The probability density function (pdf) of an exponential distribution is:\n\n$$ f(x,\\lambda) = \\begin{cases}\n & \\lambda e^{-\\lambda x}  \\cdots (x \\ge 0) \\\\\n & 0 \\cdots (x\\le 0) \n\\end{cases} \\\\\n\\textrm{The mean or expected value of an exponentially distributed random variable X with rate parameter λ is given by} \\\\\nE[X] = \\frac{1}{\\lambda}\n $$\n\n"
    },
    {
      "metadata": {},
      "cell_type": "markdown",
      "source": "Moment generating function of X.:\n$$ M_X(t)= E(e^{tx}) \\\\ \n$$\nLet X be a continuous random variable which can take \n$$ R_X = 0 , inf \\\\\nM_X(t) = E(e^{tx}) = \\int_{0}^{Inf} (e^{tx})f_x(X)dx  \\cdots \\textrm{ MGF function * probability of all the X integrated from 0 to Inf}\\\\\n= \\int_{0}^{Inf} (e^{tx})\\lambda e^{-\\lambda x}  dx   \\cdots \\textrm{ f_x(X) =\\lambda e^{-\\lambda x} } \\\\\n= \\lambda \\int_{0}^{Inf} e^{tx} e^{-\\lambda x} \\\\\n= \\lambda \\int_{0}^{Inf} e^{tx-\\lambda x} \\\\\n= \\lambda \\int_{0}^{Inf} e^{x(t-\\lambda x)} \\\\\n= \\lambda \\left [ \\frac{1}{t-\\lambda} e^{x(t-\\lambda x)}  \\right ]_{0}^{Inf}\n= \\frac{\\lambda }{\\lambda -t}\n$$"
    },
    {
      "metadata": {},
      "cell_type": "markdown",
      "source": "Now we will put the MGF to E(X`) \n$$\n𝑀_𝑋(𝑡) = \\frac{𝜆}{𝜆−𝑡} \\\\\n\\textrm{The expected value of X can be computed by taking the first derivative of the mgf, and and evaluating it at t=0 } \\\\\nE(X_1)= \\frac{d}{dt}𝑀_𝑋(𝑡) \\\\\n=\\frac{d}{dt} 𝑀_𝑋(𝑡) \\left |_{t=0} \\right . \\\\\n=\\frac{d}{dt} \\frac{𝜆}{𝜆−𝑡} \\left |_{t=0} \\right .  \\\\\n=𝜆\\frac{d}{dt} (\\frac{1}{𝜆−𝑡})^{1} \\left |_{t=0} \\right .  \\\\\n=𝜆\\left [(\\frac{1}{𝜆−𝑡})^{2} \\right ]_{t=0} \\\\\n= 𝜆 (\\frac{1}{𝜆−0})^{2}  \\textrm{ After Evaluating t=0}\\\\\n= \\frac{𝜆 }{𝜆^2} \\\\\nE(X_1)=  \\frac{1}{𝜆} \\\\ \\\\ \\\\\n\\textrm{The second moment of X can be computed by taking the second derivative of the mgf:} \\\\\nE(X_2)= \\frac{d^2}{dt^2}𝑀_𝑋(𝑡) \\\\\n= \\frac{d^2}{dt^2}  𝑀_𝑋(𝑡) \\left |_{t=0} \\right . \\\\\n= \\frac{d^2}{dt^2}  \\frac{𝜆}{𝜆−𝑡} \\left |_{t=0} \\right .  \\\\\n= \\frac{d}{dt} 𝜆\\left ((\\frac{1}{𝜆−𝑡})^{2} \\right ) \\left |_{t=0} \\right . \\\\\n=  𝜆\\frac{d}{dt}  \\left ((\\frac{1}{𝜆−𝑡})^{2} \\right ) \\left |_{t=0} \\right . \\\\\n=  2𝜆 \\left [  \\left ((\\frac{1}{𝜆−𝑡})^{3} \\right ) \\right ]_{t=0} \\\\ \\textrm{and evaluating it at $t=0$:}\\\\\n= \\frac{2𝜆}{{𝜆−𝑡}^3} \\\\\n= \\frac{2𝜆}{{𝜆−0}^3} = \\frac{2𝜆}{{𝜆}^3} \\\\\nE(X_2)= \\frac{2}{{𝜆}^2} \\\\\n\\textrm{The Variance can be calculated by taking difference of 2nd MFG and sqr(1st MGF) expected value of X : }\\\\\n$$"
    },
    {
      "metadata": {
        "trusted": true
      },
      "cell_type": "markdown",
      "source": "$$ Varinace(X)= E(X_2) - (E(X_1))^2 \\\\\n=  \\frac{2}{{𝜆}^2}  - ( \\frac{1}{𝜆} )^2 \\\\\n= \\frac{1}{{𝜆}^2}$$"
    },
    {
      "metadata": {
        "trusted": true
      },
      "cell_type": "code",
      "source": "",
      "execution_count": null,
      "outputs": []
    },
    {
      "metadata": {
        "trusted": true
      },
      "cell_type": "code",
      "source": "",
      "execution_count": null,
      "outputs": []
    }
  ],
  "metadata": {
    "kernelspec": {
      "name": "python36",
      "display_name": "Python 3.6",
      "language": "python"
    },
    "language_info": {
      "mimetype": "text/x-python",
      "nbconvert_exporter": "python",
      "name": "python",
      "pygments_lexer": "ipython3",
      "version": "3.6.6",
      "file_extension": ".py",
      "codemirror_mode": {
        "version": 3,
        "name": "ipython"
      }
    }
  },
  "nbformat": 4,
  "nbformat_minor": 2
}