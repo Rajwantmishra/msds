{
  "cells": [
    {
      "metadata": {
        "collapsed": true
      },
      "cell_type": "markdown",
      "source": "A die is rolled three times. Find the probability that the sum of the outcomesis\n\n(a) greater than 9.\n\n"
    },
    {
      "metadata": {},
      "cell_type": "markdown",
      "source": "Consider the sum of the first two dice. If the sum is lower than or equal to 3, the third die can have any value. As the sum increases from 3 to 8, fewer possible values can be thrown by the third die. <br> Since the number of ways to throw a sum of n with two dice equals 6−|n−7|, the number of ways to throw a total of 9 or less equals:\n\n$$1 \\cdot 6 + \\sum_{i = 3}^{8} (6 - |i - 7|) (9 - i) = 1 \\cdot 6 + 2 \\cdot 6 + 3 \\cdot 5 + 4 \\cdot 4 + 5 \\cdot 3 + 6 \\cdot 2 + 5 \\cdot 1 = 81 $$\n\nSince there are 6^3=216 ways to throw the three dice, the probability of throwing 9 or less equals:\n\n$$ \\frac{81}{216} = 0.375 $$\n\nThe probability of throwing greater than 9 sum =:\n $$ 1- 0.375 = 0.625 $$\n"
    },
    {
      "metadata": {},
      "cell_type": "markdown",
      "source": "[Ref.](https://math.stackexchange.com/questions/2396015/sum-of-three-dice-is-eleven) <br>\n[Ref2 ](https://www.thoughtco.com/probabilities-for-rolling-three-dice-3126558)"
    },
    {
      "metadata": {
        "trusted": true
      },
      "cell_type": "code",
      "source": "",
      "execution_count": null,
      "outputs": []
    }
  ],
  "metadata": {
    "kernelspec": {
      "name": "python36",
      "display_name": "Python 3.6",
      "language": "python"
    },
    "language_info": {
      "mimetype": "text/x-python",
      "nbconvert_exporter": "python",
      "name": "python",
      "pygments_lexer": "ipython3",
      "version": "3.6.6",
      "file_extension": ".py",
      "codemirror_mode": {
        "version": 3,
        "name": "ipython"
      }
    }
  },
  "nbformat": 4,
  "nbformat_minor": 2
}