{
  "cells": [
    {
      "metadata": {
        "trusted": true
      },
      "cell_type": "code",
      "source": "#---------------------------------Extra Practice \n# nPr(n,r)=n!/(n−r)! \n# nCr(n,r)=nPr(n,r)/r!=n!/(r!(n−r)!)\nimport operator as op\nfrom functools import reduce\nimport math as mt\n\ndef ncr(n, r):\n    r = min(r, n-r)\n    numer = reduce(op.mul, range(n, n-r, -1), 1)\n    denom = reduce(op.mul, range(1, r+1), 1)\n    return numer / denom\n\ndef npr(n, r):\n    return  mt.factorial(n)/ mt.factorial(n-r)",
      "execution_count": 113,
      "outputs": []
    },
    {
      "metadata": {
        "collapsed": true
      },
      "cell_type": "markdown",
      "source": "1. A box contains 54 red marbles, 9 white marbles, and 75 blue marbles. If a marble is randomly selected from the box, what is the probability that it is red or blue? Express your answer as a fraction or a decimal number rounded to four decimal places."
    },
    {
      "metadata": {
        "trusted": true
      },
      "cell_type": "code",
      "source": "nr = 54\nnw = 9\nnb = 75\n\nntotal = nr + nw + nb\n# P(red or blue) = P(red) + P(blue)\nprb = (nr + nb)/ntotal \nprint(\"Probability that it is red or blue\", round(prb,4))",
      "execution_count": 114,
      "outputs": [
        {
          "output_type": "stream",
          "text": "Probability that it is red or blue 0.9348\n",
          "name": "stdout"
        }
      ]
    },
    {
      "metadata": {},
      "cell_type": "markdown",
      "source": "2. You are going to play mini golf. A ball machine that contains 19 green golf balls, 20 red golf balls, 24 blue golf balls, and 17 yellow golf balls, randomly gives you your ball. What is the probability that you end up with a red golf ball? Express your answer as a simplified fraction or a decimal rounded to four decimal places."
    },
    {
      "metadata": {
        "trusted": true
      },
      "cell_type": "code",
      "source": "# Probability red\npr = 20 / (19 + 20 + 24 + 17)\nprint(\"Probability that you end up with a red golf ball \",round(pr, 4))",
      "execution_count": 115,
      "outputs": [
        {
          "output_type": "stream",
          "text": "Probability that you end up with a red golf ball  0.25\n",
          "name": "stdout"
        }
      ]
    },
    {
      "metadata": {},
      "cell_type": "markdown",
      "source": "3. A pizza delivery company classifies its customers by gender and location of residence. The research department has gathered data from a random sample of 1399 customers. The data is summarized in the table below.\n\n\n||Males\t|Females|Total|\n|---------|-----------|----------|-----|\n|Apartment\t|81\t|228|309 |\n|Dorm\t|116\t|79|195 |\n|With Parent(s)\t|215\t|252|467|\n|Sorority/Fraternity House|\t130|\t97|227 |\n|Other\t|129\t|72|201|\n|Total\t|671\t|728|1399\n\nWhat is the probability that a customer is not male or does not live with parents? Write your answer as a fraction or a decimal number rounded to four decimal places."
    },
    {
      "metadata": {
        "trusted": true
      },
      "cell_type": "code",
      "source": "nt = 81 + 116 + 215 + 130 + 129 + 228 + 79 + 252 + 97 + 72\n\n# not Male or not live with parents = p(not Male) + p(not live with parent ) - p(not Male and not live parent )\n\npnm = 728/ nt\npnlp = (1399-467)/nt\npnmnlp = (728- 252)/nt\npnmORnlp= pnm + pnlp - pnmnlp\nprint(\"probability that a customer is not male or does not live with parents\",round(pnmORnlp,4))",
      "execution_count": 116,
      "outputs": [
        {
          "output_type": "stream",
          "text": "probability that a customer is not male or does not live with parents 0.8463\n",
          "name": "stdout"
        }
      ]
    },
    {
      "metadata": {},
      "cell_type": "markdown",
      "source": "4. Determine if the following events are independent. Going to the gym. Losing weight. Answer: A) Dependent B) Independent\n\nA (Dependent). They are dependent event as you will lose some weight if you go to Gym.\n\n"
    },
    {
      "metadata": {},
      "cell_type": "markdown",
      "source": "5. A veggie wrap at City Subs is composed of 3 different vegetables and 3 different condiments wrapped up in a tortilla. If there are 8 vegetables, 7 condiments, and 3 types of tortilla available, how many different veggie wraps can be made?"
    },
    {
      "metadata": {
        "trusted": true
      },
      "cell_type": "code",
      "source": "# veggie wrap = There are 3 different vegetables and 3 different condiments and 1 tortilla.\nvegetables  = ncr(8,3)\ncondiments = ncr(7,3)\ntortillas = ncr(3,1)\n#Number of vegie wraps\nveg_wraps = vegetables * condiments * tortillas\nprint(veg_wraps, \" veggie wraps can be made.\")",
      "execution_count": 117,
      "outputs": [
        {
          "output_type": "stream",
          "text": "5880.0  veggie wraps can be made.\n",
          "name": "stdout"
        }
      ]
    },
    {
      "metadata": {},
      "cell_type": "markdown",
      "source": "6. Determine if the following events are independent. Jeff runs out of gas on the way to work. Liz watches the evening news. Answer: A) Dependent B) Independent\n\nB (Independent) With the given context, this event is Independent , as watching TV and runs out of gas are not related event."
    },
    {
      "metadata": {},
      "cell_type": "markdown",
      "source": "7. The newly elected president needs to decide the remaining 8 spots available in the cabinet he/she is appointing. If there are 14 eligible candidates for these positions (where rank matters), how many different ways can the members of the cabinet be appointed?"
    },
    {
      "metadata": {
        "trusted": true
      },
      "cell_type": "code",
      "source": "# The permutation of 14 people taking 8 at a time is:\nprint(\"We can arrange 14 PPl in 8 ways \",npr(14,8))",
      "execution_count": 118,
      "outputs": [
        {
          "output_type": "stream",
          "text": "We can arrange 14 PPl in 8 ways  121080960.0\n",
          "name": "stdout"
        }
      ]
    },
    {
      "metadata": {},
      "cell_type": "markdown",
      "source": "8. A bag contains 9 red, 4 orange, and 9 green jellybeans. What is the probability of reaching into the bag and randomly withdrawing 4 jellybeans such that the number of red ones is 0, the number of orange ones is 1, and the number of green ones is 3? Write your answer as a fraction or a decimal number rounded to four decimal places."
    },
    {
      "metadata": {
        "trusted": true
      },
      "cell_type": "code",
      "source": "# Choose 1 Orange from 4   =>ncr(4,1)\n# Choose 3 Green Jelly from 9 =>ncr(9,3)\n# Choose 4 out of 22, Total 9+ 4 +9   =>ncr(22,4)\nprint (\"We can randomly withdraw 4 jellybeans with 1 orange 3 Green Jelly: \",round((ncr(4,1)*ncr(9,3))/ncr(22,4),4))\n\n",
      "execution_count": 119,
      "outputs": [
        {
          "output_type": "stream",
          "text": "We can randomly withdraw 4 jellybeans with 1 orange 3 Green Jelly:  0.0459\n",
          "name": "stdout"
        }
      ]
    },
    {
      "metadata": {},
      "cell_type": "markdown",
      "source": "9. Evaluate the following expression. \n$$ \\frac{11!}{7!} $$\n\n$$ = \\frac{11*10*9*8*7*6*5*4*3*2*1}{7*6*5*3*2*1 }$$\n\n$$ = \\frac{11*10*9*8*\\not{7}*\\not{6}*\\not{5}*\\not{4}*\\not{3}*\\not{2}*\\not{1}}{\\not{7}*\\not{6}*\\not{5}*\\not{4}*\\not{3}*\\not{2}*\\not{1} }$$\n\n$$ = 7920.0 $$"
    },
    {
      "metadata": {
        "trusted": true
      },
      "cell_type": "code",
      "source": "mt.factorial(11)/mt.factorial(7)",
      "execution_count": 120,
      "outputs": [
        {
          "output_type": "execute_result",
          "execution_count": 120,
          "data": {
            "text/plain": "7920.0"
          },
          "metadata": {}
        }
      ]
    },
    {
      "metadata": {},
      "cell_type": "markdown",
      "source": "10. Describe the complement of the given event. 67% of subscribers to a fitness magazine are over the age of 34.\n\nCompliment: 33% of subscribers the  magazine are  of age 34 or less. "
    },
    {
      "metadata": {},
      "cell_type": "markdown",
      "source": "11. If you throw exactly three heads in four tosses of a coin you win $97. If not, you pay me $30.\n<br>Step 1. Find the expected value of the proposition. Round your answer to two decimal places.\n<br>Step 2. If you played this game 559 times how much would you expect to win or lose? (Losses must be entered as negative.)"
    },
    {
      "metadata": {
        "trusted": true
      },
      "cell_type": "code",
      "source": "# Step 1. Find the expected value of the proposition. Round your answer to two decimal places.\n# Total possible outcome after 4 toss with 2 possible outcomes = 2^4\n\ntotal_outcomes = 2**4\n# selecting only 3 heads from 4 toss = 4choose 3 \n# Rest of the Outcomes reamianing after 3  heads = 1 - 4 choose 3\n\n#Random Number values are 97 and -30.\n#Probabilities to get three head out of 4 tosses is : 4 choose 3 / total outcomes\npThreeHead = ncr(4,3)/total_outcomes\n\n#Probabilities to NOT get three head out of 4 tosses is :  1 - pThreeHead  (compliment of the event)\n\npRest =  (1 - pThreeHead)\nexpected_Val = pThreeHead * 97 + pRest*(-30)\n\nprint(\"Expected value of the proposition. :\", round(expected_Val,2))\n",
      "execution_count": 121,
      "outputs": [
        {
          "output_type": "stream",
          "text": "Expected value of the proposition. : 1.75\n",
          "name": "stdout"
        }
      ]
    },
    {
      "metadata": {
        "trusted": true
      },
      "cell_type": "code",
      "source": "# Step 2. If you played this game 559 times how much would you expect to win or lose? (Losses must be entered as negative.)\n\nprint(\"If I play this game 559 times, I expect to win $\",expected_Val*559)\n",
      "execution_count": 122,
      "outputs": [
        {
          "output_type": "stream",
          "text": "If I play this game 559 times, I expect to win $ 978.25\n",
          "name": "stdout"
        }
      ]
    },
    {
      "metadata": {},
      "cell_type": "markdown",
      "source": "12. Flip a coin 9 times. If you get 4 tails or less, I will pay you $23. Otherwise you pay me $26. <br>\nStep 1. Find the expected value of the proposition. Round your answer to two decimal places. <br>\nStep 2. If you played this game 994 times how much would you expect to win or lose? (Losses must be entered as negative.)"
    },
    {
      "metadata": {
        "trusted": true
      },
      "cell_type": "code",
      "source": "# Step 1. Find the expected value of the proposition. Round your answer to two decimal places.\ntotal_outcome = 2**9\n# Probability to get 4 tails or less out of 9 tosses  : 9 choose 4,3,2,1\npft = (ncr(9,4)+ncr(9,3)+ncr(9,2)+ncr(9,1)+ncr(9,0))/total_outcome\ncpft = 1 - pft \n# Since I am gaining +23 lossoing -26, lets apply this with our probability of these events.\nev= pft * 23 + cpft*(-26)\n\nprint(\"Expected value : \",round (ev,2))\n\n# # you pay 26 for 5,6,7,8,9 tails\n# tp = (ncr(9,5)+ncr(9,6)+ncr(9,7)+ncr(9,8)+ ncr(9,9))\n# tp,tp/total_outcome\n# .5*23 - 0.5 * 26 ,pft\n",
      "execution_count": 123,
      "outputs": [
        {
          "output_type": "stream",
          "text": "Expected value :  -1.5\n",
          "name": "stdout"
        }
      ]
    },
    {
      "metadata": {
        "trusted": true
      },
      "cell_type": "code",
      "source": "# Step 2. If you played this game 994 times how much would you expect to win or lose? (Losses must be entered as negative.)\nprint(\"If I play this game 994 times, I expect to loose  $\",abs(round(ev*994,2)))",
      "execution_count": 124,
      "outputs": [
        {
          "output_type": "stream",
          "text": "If I play this game 994 times, I expect to loose  $ 1491.0\n",
          "name": "stdout"
        }
      ]
    },
    {
      "metadata": {},
      "cell_type": "markdown",
      "source": "13. The sensitivity and specificity of the polygraph has been a subject of study and debate for years. A 2001 study of the use of polygraph for screening purposes suggested that the probability of detecting a liar was .59 (sensitivity) and that the probability of detecting a “truth teller” was .90 (specificity). We estimate that about 20% of individuals selected for the screening polygraph will lie.\n\n| N   | Truth | liar  | PolyTruth | Plyliar  |\n|-----|-------|------|-----------|---------|\n| 100 | 80    | 20   | 90        | 59      |\n\n| Event Type             | Truth     | liar     | Total |   |\n|------------------------|-----------|---------|-------|---|\n| Actaul liar             |           | 0.2     |       |   |\n| Actual Truth           | 0.8       |         |       |   |\n| Total liar              | .80 * .10 | .20*.59 | 0.198 |   |\n| Actual Detected liar    |           | .20*.59 | 0.118 |   |\n| Total Truth            | .80*.90   | .20*.41 | 0.802 |   |\n| Actual Detected  Truth | .80*.90   |         | 0.72  |   |\n\n"
    },
    {
      "metadata": {},
      "cell_type": "markdown",
      "source": "a. What is the probability that an individual is actually a liar given that the polygraph detected him/her as such? (Show me the table or the formulaic solution or both.)\np(Actually liar | Detected liar ) = P(Detected liar |Given Actual liar ) * P(Actual liar )/ p(Total Detected liar )"
    },
    {
      "metadata": {
        "trusted": true
      },
      "cell_type": "code",
      "source": "# here p(individual is actually a liar | given that the polygraph detected Liar ) \n# This is P(A|B) type of problem\n# Let A = individual is actually a liar \n# B = given that the polygraph detected Liar\n## P(A|B) = p(B|A) * p(A)/ p(B)\n# p(Actually liar | Detected liar ) = P(Detected liar |Given Actual liar ) * P(Actual liar )/ p(Total Detected liar )\n\npba =  .20*.59  # P(Detected liar |Given Actual liar )\npal = .20  #P(Actual liar )\nptdl = .80 * .10+.20*.59  #p(Total Detected liar )\n\n# p(Actually liar | Detected liar )\nsol = pba * pal/ptdl\n\nprint(\"Probability  p(individual is actually a liar | given that the polygraph detected Liar ) :=>\", round(sol,4) )\n",
      "execution_count": 125,
      "outputs": [
        {
          "output_type": "stream",
          "text": "Probability  p(individual is actually a liar | given that the polygraph detected Liar ) :=> 0.1192\n",
          "name": "stdout"
        }
      ]
    },
    {
      "metadata": {},
      "cell_type": "markdown",
      "source": "\nb. What is the probability that an individual is actually a truth-teller given that the polygraph detected him/her as such? (Show me the table or the formulaic solution or both.)\n\n| N   | Truth | liar  | PolyTruth | Plyliar  |\n|-----|-------|------|-----------|---------|\n| 100 | 80    | 20   | 90        | 59      |\n\n| Event Type             | Truth     | liar     | Total |   |\n|------------------------|-----------|---------|-------|---|\n| Actaul liar             |           | 0.2     |       |   |\n| Actual Truth           | 0.8       |         |       |   |\n| Total liar              | .80 * .10 | .20*.59 | 0.198 |   |\n| Actual Detected liar    |           | .20*.59 | 0.118 |   |\n| Total Truth            | .80*.90   | .20*.41 | 0.802 |   |\n| Actual Detected  Truth | .80*.90   |         | 0.72  |   |\n"
    },
    {
      "metadata": {
        "trusted": true
      },
      "cell_type": "code",
      "source": "# here p(individual is actually a truth-teller | given that the polygraph detected truth-teller) \n# This is P(A|B) type of problem\n# Let A = individual is actually a truth-teller\n# B = given that the polygraph detected truth-teller\n## P(A|B) = p(B|A) * p(A)/ p(B)\n# p(Actually truth-teller | Detected truth-teller ) = P(Detected truth-teller|Given Actual truth-teller ) * P(Actual truth-teller )/ p(Total Detected truth-teller )\n\npba =  .80*.90  # P(Detected truth-teller |Given Actual truth-teller )\npal = 0.8  #P(Actual truth-teller )\nptdl = .80*.90+.20*.41 #p(Total Detected truth-teller )\n\n# p(Actually truth-teller| Detected truth-teller)\nsol = pba * pal/ptdl\n\nprint(\"Probability  p(individual is actually a truth-teller | given that the polygraph detected truth-teller ) :=>\", round(sol,4) )\n",
      "execution_count": 126,
      "outputs": [
        {
          "output_type": "stream",
          "text": "Probability  p(individual is actually a truth-teller | given that the polygraph detected truth-teller ) :=> 0.7182\n",
          "name": "stdout"
        }
      ]
    },
    {
      "metadata": {},
      "cell_type": "markdown",
      "source": "\nc. What is the probability that a randomly selected individual is either a liar or was identified as a liar by the polygraph? Be sure to write the probability statement.`\n\n| N   | Truth | liar  | PolyTruth | Plyliar  |\n|-----|-------|------|-----------|---------|\n| 100 | 80    | 20   | 90        | 59      |\n\n| Event Type             | Truth     | liar     | Total |   |\n|------------------------|-----------|---------|-------|---|\n| Actaul liar             |           | 0.2     |       |   |\n| Actual Truth           | 0.8       |         |       |   |\n| Total liar              | .80 * .10 | .20*.59 | 0.198 |   |\n| Actual Detected liar    |           | .20*.59 | 0.118 |   |\n| Total Truth            | .80*.90   | .20*.41 | 0.802 |   |\n| Actual Detected  Truth | .80*.90   |         | 0.72  |   |\n"
    },
    {
      "metadata": {},
      "cell_type": "markdown",
      "source": " p(randomly selected individual is either a liar OR  identified as a liar by the polygraph)  \n Let  <br>\n <b>A = randomly selected individual is either a liar  \n B = identified as a liar by the polygraph </b>\n $$ p(A or B) = p(A) + p(B) - p(A and B) $$\n $$ p(A or B) = .2 + 0.198 - (.20*.59) \\\\ p(A or B) = .2 + 0.198 - 0.118\t\\\\ 0.28 $$\n \n <b>  p(randomly selected individual is either a liar OR  identified as a liar by the polygraph)   = 0.28 </b>"
    },
    {
      "metadata": {
        "trusted": true
      },
      "cell_type": "code",
      "source": "# here p(randomly selected individual is either a liar OR  identified as a liar by the polygraph) \n# This is P(A or B) type of problem\n# Let A = randomly selected individual is either a liar\n# B = identified as a liar by the polygraph\n## P(A or B) = p(B) +  p(A) - p(A and B)\n\n\n\npa = 0.2\npb = 0.198\npanb = .20*.59    # individual is either a liar (.2) AND  identified as a liar (.59)\n\nsol = pa+pb-panb\n\nprint(\"Probability   p(randomly selected individual is either a liar OR  identified as a liar by the polygraph)  :=>\", round(sol,4) )\n",
      "execution_count": 127,
      "outputs": [
        {
          "output_type": "stream",
          "text": "Probability   p(randomly selected individual is either a liar OR  identified as a liar by the polygraph)  :=> 0.28\n",
          "name": "stdout"
        }
      ]
    },
    {
      "metadata": {
        "trusted": true
      },
      "cell_type": "code",
      "source": "",
      "execution_count": null,
      "outputs": []
    },
    {
      "metadata": {
        "trusted": true
      },
      "cell_type": "code",
      "source": "",
      "execution_count": null,
      "outputs": []
    },
    {
      "metadata": {
        "trusted": true
      },
      "cell_type": "code",
      "source": "",
      "execution_count": null,
      "outputs": []
    }
  ],
  "metadata": {
    "kernelspec": {
      "name": "python36",
      "display_name": "Python 3.6",
      "language": "python"
    },
    "language_info": {
      "mimetype": "text/x-python",
      "nbconvert_exporter": "python",
      "name": "python",
      "pygments_lexer": "ipython3",
      "version": "3.6.6",
      "file_extension": ".py",
      "codemirror_mode": {
        "version": 3,
        "name": "ipython"
      }
    }
  },
  "nbformat": 4,
  "nbformat_minor": 2
}