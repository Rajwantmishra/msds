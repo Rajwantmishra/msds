{
  "cells": [
    {
      "metadata": {
        "collapsed": true
      },
      "cell_type": "markdown",
      "source": "1. Let X1, X2, . . . , Xn be n mutually independent random variables, each of\nwhich is uniformly distributed on the integers from 1 to k. Let Y denote the\nminimum of the Xi’s. Find the distribution of Y"
    },
    {
      "metadata": {},
      "cell_type": "markdown",
      "source": "As per given info :\n\nY =  min(X1,…,Xn≥j) , since Y denote the minimum of the Xi’s\nWe need to find p(Y=j) where we can arrange the X1,…,Xn in between j and k. we can find all the we ways we can arrange \nXi's from \"j\" (min of Xi's) to \"k\" and devide it by all the ways we can arrange X1,…,Xn from 1 to k. \n\neach Xi has k possibilities: 1, 2,.... k. Then, the total possible number of assignments for the entire collection of random variables X1;X2; :::;Xn is k^n.\n\nNow we can p(Y = 1) = is k^n - (k - 1)^n, since k^n represents the total number of options and (k-1)^n represents all of the options where none of the Xi's would be greater than 1.\n\nfor p(y=2) = k^n-(k -2)^n -[k^n -(k -1)^n\n\nAfter generalization this for (Y=j), we get:\n$$ P(Y=j) = \\frac{(k−j+1)^n − (k−j)^n}{k^n}....for 1≤x≤k $$\n\n"
    },
    {
      "metadata": {},
      "cell_type": "markdown",
      "source": "2. Your organization owns a copier (future lawyers, etc.) or MRI (future doctors). This machine has a manufacturer’s expected lifetime of 10 years. This means that we expect one failure every ten years. (Include the probability statements and R Code for each part.).\n\na. What is the probability that the machine will fail after 8 years?. Provide also the expected value and standard deviation. Model as a geometric. (Hint: the probability is equivalent to not failing during the first 8 years..)\n\nits A geometric model problem , where p is probability of 1/10 : \nwith $$ P(X=8) = (1-p)^{x-1} * p $$"
    },
    {
      "metadata": {
        "trusted": true
      },
      "cell_type": "code",
      "source": "k = 8  # Probability of machine not failing for 1st 8 year.\np = 1/10 # Probability of machine failing \n\nfrom scipy.stats import geom,binom,poisson\nimport math \n",
      "execution_count": 58,
      "outputs": []
    },
    {
      "metadata": {
        "trusted": true
      },
      "cell_type": "code",
      "source": "p8 = geom.pmf(8,1/10)\n\n# The probability the machine will fail after 8 years\nprint(\"Probability that the machine will fail after 8 years\",round(p8,4))",
      "execution_count": 8,
      "outputs": [
        {
          "output_type": "stream",
          "text": "Probability that the machine will fail after 8 years 0.0478\n",
          "name": "stdout"
        }
      ]
    },
    {
      "metadata": {
        "trusted": true
      },
      "cell_type": "code",
      "source": "# Expected value of the Geometric Distribution \nprint (\"Expected value = \",1/p )\n\n# standard deviation of the Geometric Distribution \nprint (\"Variance = \",(1-p)/p**2 )\nprint (\"SD = \",math.sqrt((1-p)/p**2) )",
      "execution_count": 16,
      "outputs": [
        {
          "output_type": "stream",
          "text": "Expected value =  10.0\nVariance =  89.99999999999999\nSD =  9.486832980505138\n",
          "name": "stdout"
        }
      ]
    },
    {
      "metadata": {
        "trusted": true
      },
      "cell_type": "code",
      "source": "",
      "execution_count": null,
      "outputs": []
    },
    {
      "metadata": {
        "trusted": true
      },
      "cell_type": "code",
      "source": "",
      "execution_count": null,
      "outputs": []
    },
    {
      "metadata": {},
      "cell_type": "markdown",
      "source": "b. What is the probability that the machine will fail after 8 years?. Provide also the expected value and standard deviation. Model as an exponential."
    },
    {
      "metadata": {
        "trusted": true
      },
      "cell_type": "code",
      "source": "# P(X=1st machine occurs failure after 8 yrs)\nx=8\np=1/10\nlam = x*p\n\n\nfrom scipy.stats import expon\nprint(\"the probability that the machine will fail after 8 years,Model as an exponential.\",round(expon.pdf(x,p),5))\n\nprint(\"Expected value \",1 / p )\n\nprint(\"standard deviation \",math.sqrt(1 / p**2))\n",
      "execution_count": 56,
      "outputs": [
        {
          "output_type": "stream",
          "text": "the probability that the machine will fail after 8 years,Model as an exponential. 0.00037\nExpected value  10.0\nstandard deviation  10.0\n",
          "name": "stdout"
        }
      ]
    },
    {
      "metadata": {
        "trusted": true
      },
      "cell_type": "code",
      "source": "",
      "execution_count": null,
      "outputs": []
    },
    {
      "metadata": {},
      "cell_type": "markdown",
      "source": "c. What is the probability that the machine will fail after 8 years?. Provide also the expected value and standard deviation. Model as a binomial. (Hint: 0 success in 8 years)"
    },
    {
      "metadata": {
        "trusted": true
      },
      "cell_type": "code",
      "source": "# Probability Statement:\n# P(X=0 success in 8 yrs)\n\nn = 8 \np = 1/10 # Probabaility of ailure \nq = 1-p # Probability of success \nk = 0\n\nbp = binom.pmf(k,n,p)\n\nprint(\"probability that the machine will fail after 8 years \",bp)\nprint(\"Expected value :\", n*p)\n\nstd = math.sqrt(n*p*q)\nprint(\"Standard Deviation \",std) ",
      "execution_count": 82,
      "outputs": [
        {
          "output_type": "stream",
          "text": "probability that the machine will fail after 8 years  0.43046721\nExpected value : 0.8\nStandard Deviation  0.8485281374238571\n",
          "name": "stdout"
        }
      ]
    },
    {
      "metadata": {},
      "cell_type": "markdown",
      "source": "d. What is the probability that the machine will fail after 8 years?. Provide also the expected value and standard deviation. Model as a Poisson.\n\n$$ for \\space P(x=8) = \\frac{lambda^x * e^{-lambda}} {x!}$$ "
    },
    {
      "metadata": {
        "trusted": true
      },
      "cell_type": "code",
      "source": "# probability that the machine will fail after 8 years\nlam<- 8/10\nk= 9\nprint(\"probability that the machine will fail after 8 years \", poisson.pmf(0,lam) )\nprint(\"Expeacted Value\" , lam)\nprint(\" standard deviation\" , math.sqrt(lam))\n",
      "execution_count": 94,
      "outputs": [
        {
          "output_type": "stream",
          "text": " probability that the machine will fail after 8 years  0.44932896411722156\nExpeacted Value 0.8\n standard deviation 0.8944271909999159\n",
          "name": "stdout"
        }
      ]
    },
    {
      "metadata": {
        "trusted": true
      },
      "cell_type": "code",
      "source": "# --------Funcation\nimport operator as op\nfrom functools import reduce\nimport math as mt\n\ndef ncr(n, r):\n    r = min(r, n-r)\n    numer = reduce(op.mul, range(n, n-r, -1), 1)\n    denom = reduce(op.mul, range(1, r+1), 1)\n    return numer / denom\n\ndef npr(n, r):\n    return  mt.factorial(n)/ mt.factorial(n-r)",
      "execution_count": 74,
      "outputs": []
    },
    {
      "metadata": {
        "trusted": true
      },
      "cell_type": "code",
      "source": "",
      "execution_count": null,
      "outputs": []
    }
  ],
  "metadata": {
    "kernelspec": {
      "name": "python36",
      "display_name": "Python 3.6",
      "language": "python"
    },
    "language_info": {
      "mimetype": "text/x-python",
      "nbconvert_exporter": "python",
      "name": "python",
      "pygments_lexer": "ipython3",
      "version": "3.6.6",
      "file_extension": ".py",
      "codemirror_mode": {
        "version": 3,
        "name": "ipython"
      }
    }
  },
  "nbformat": 4,
  "nbformat_minor": 2
}