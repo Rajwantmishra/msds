{
  "cells": [
    {
      "metadata": {
        "trusted": true
      },
      "cell_type": "code",
      "source": "",
      "execution_count": null,
      "outputs": []
    },
    {
      "metadata": {},
      "cell_type": "markdown",
      "source": "#### 1. \nFind the equation of the regression line for the given points. Round any final values to the nearest hundredth, if necessary:\n( 5.6, 8.8 ), ( 6.3, 12.4 ), ( 7, 14.8 ), ( 7.7, 18.2 ), ( 8.4, 20.8 )"
    },
    {
      "metadata": {
        "trusted": true
      },
      "cell_type": "code",
      "source": "import statsmodels.api as sm\nimport numpy as np\nimport pandas as pd",
      "execution_count": 2,
      "outputs": []
    },
    {
      "metadata": {
        "trusted": true
      },
      "cell_type": "code",
      "source": "x = [5.6, 6.3, 7, 7.7, 8.4]\ny = [8.8, 12.4, 14.8, 18.2, 20.8]\nd = {'X': x, 'Y':y}\ndf = pd.DataFrame(data=d)\ntype(df)",
      "execution_count": 11,
      "outputs": [
        {
          "output_type": "execute_result",
          "execution_count": 11,
          "data": {
            "text/plain": "pandas.core.frame.DataFrame"
          },
          "metadata": {}
        }
      ]
    },
    {
      "metadata": {
        "trusted": true
      },
      "cell_type": "code",
      "source": "df",
      "execution_count": 12,
      "outputs": [
        {
          "output_type": "execute_result",
          "execution_count": 12,
          "data": {
            "text/html": "<div>\n<style scoped>\n    .dataframe tbody tr th:only-of-type {\n        vertical-align: middle;\n    }\n\n    .dataframe tbody tr th {\n        vertical-align: top;\n    }\n\n    .dataframe thead th {\n        text-align: right;\n    }\n</style>\n<table border=\"1\" class=\"dataframe\">\n  <thead>\n    <tr style=\"text-align: right;\">\n      <th></th>\n      <th>X</th>\n      <th>Y</th>\n    </tr>\n  </thead>\n  <tbody>\n    <tr>\n      <th>0</th>\n      <td>5.6</td>\n      <td>8.8</td>\n    </tr>\n    <tr>\n      <th>1</th>\n      <td>6.3</td>\n      <td>12.4</td>\n    </tr>\n    <tr>\n      <th>2</th>\n      <td>7.0</td>\n      <td>14.8</td>\n    </tr>\n    <tr>\n      <th>3</th>\n      <td>7.7</td>\n      <td>18.2</td>\n    </tr>\n    <tr>\n      <th>4</th>\n      <td>8.4</td>\n      <td>20.8</td>\n    </tr>\n  </tbody>\n</table>\n</div>",
            "text/plain": "     X     Y\n0  5.6   8.8\n1  6.3  12.4\n2  7.0  14.8\n3  7.7  18.2\n4  8.4  20.8"
          },
          "metadata": {}
        }
      ]
    },
    {
      "metadata": {
        "trusted": true
      },
      "cell_type": "code",
      "source": "x = sm.add_constant(x) # let's add an intercept (beta_0) to our model\nmodel  = sm.OLS(y,x).fit()\npredictions = model.predict(x) # make the predictions by the model\n\n# Print out the statistics\nmodel.summary()",
      "execution_count": 22,
      "outputs": [
        {
          "output_type": "stream",
          "text": "/home/nbuser/anaconda3_501/lib/python3.6/site-packages/statsmodels/stats/stattools.py:72: ValueWarning: omni_normtest is not valid with less than 8 observations; 5 samples were given.\n  \"samples were given.\" % int(n), ValueWarning)\n",
          "name": "stderr"
        },
        {
          "output_type": "execute_result",
          "execution_count": 22,
          "data": {
            "text/html": "<table class=\"simpletable\">\n<caption>OLS Regression Results</caption>\n<tr>\n  <th>Dep. Variable:</th>            <td>y</td>        <th>  R-squared:         </th> <td>   0.996</td>\n</tr>\n<tr>\n  <th>Model:</th>                   <td>OLS</td>       <th>  Adj. R-squared:    </th> <td>   0.995</td>\n</tr>\n<tr>\n  <th>Method:</th>             <td>Least Squares</td>  <th>  F-statistic:       </th> <td>   843.1</td>\n</tr>\n<tr>\n  <th>Date:</th>             <td>Fri, 06 Dec 2019</td> <th>  Prob (F-statistic):</th> <td>8.97e-05</td>\n</tr>\n<tr>\n  <th>Time:</th>                 <td>18:22:27</td>     <th>  Log-Likelihood:    </th> <td>-0.19107</td>\n</tr>\n<tr>\n  <th>No. Observations:</th>      <td>     5</td>      <th>  AIC:               </th> <td>   4.382</td>\n</tr>\n<tr>\n  <th>Df Residuals:</th>          <td>     3</td>      <th>  BIC:               </th> <td>   3.601</td>\n</tr>\n<tr>\n  <th>Df Model:</th>              <td>     1</td>      <th>                     </th>     <td> </td>   \n</tr>\n<tr>\n  <th>Covariance Type:</th>      <td>nonrobust</td>    <th>                     </th>     <td> </td>   \n</tr>\n</table>\n<table class=\"simpletable\">\n<tr>\n    <td></td>       <th>coef</th>     <th>std err</th>      <th>t</th>      <th>P>|t|</th>  <th>[0.025</th>    <th>0.975]</th>  \n</tr>\n<tr>\n  <th>const</th> <td>  -14.8000</td> <td>    1.037</td> <td>  -14.278</td> <td> 0.001</td> <td>  -18.099</td> <td>  -11.501</td>\n</tr>\n<tr>\n  <th>x1</th>    <td>    4.2571</td> <td>    0.147</td> <td>   29.036</td> <td> 0.000</td> <td>    3.791</td> <td>    4.724</td>\n</tr>\n</table>\n<table class=\"simpletable\">\n<tr>\n  <th>Omnibus:</th>       <td>   nan</td> <th>  Durbin-Watson:     </th> <td>   3.296</td>\n</tr>\n<tr>\n  <th>Prob(Omnibus):</th> <td>   nan</td> <th>  Jarque-Bera (JB):  </th> <td>   0.714</td>\n</tr>\n<tr>\n  <th>Skew:</th>          <td> 0.498</td> <th>  Prob(JB):          </th> <td>   0.700</td>\n</tr>\n<tr>\n  <th>Kurtosis:</th>      <td> 1.440</td> <th>  Cond. No.          </th> <td>    51.5</td>\n</tr>\n</table><br/><br/>Warnings:<br/>[1] Standard Errors assume that the covariance matrix of the errors is correctly specified.",
            "text/plain": "<class 'statsmodels.iolib.summary.Summary'>\n\"\"\"\n                            OLS Regression Results                            \n==============================================================================\nDep. Variable:                      y   R-squared:                       0.996\nModel:                            OLS   Adj. R-squared:                  0.995\nMethod:                 Least Squares   F-statistic:                     843.1\nDate:                Fri, 06 Dec 2019   Prob (F-statistic):           8.97e-05\nTime:                        18:22:27   Log-Likelihood:               -0.19107\nNo. Observations:                   5   AIC:                             4.382\nDf Residuals:                       3   BIC:                             3.601\nDf Model:                           1                                         \nCovariance Type:            nonrobust                                         \n==============================================================================\n                 coef    std err          t      P>|t|      [0.025      0.975]\n------------------------------------------------------------------------------\nconst        -14.8000      1.037    -14.278      0.001     -18.099     -11.501\nx1             4.2571      0.147     29.036      0.000       3.791       4.724\n==============================================================================\nOmnibus:                          nan   Durbin-Watson:                   3.296\nProb(Omnibus):                    nan   Jarque-Bera (JB):                0.714\nSkew:                           0.498   Prob(JB):                        0.700\nKurtosis:                       1.440   Cond. No.                         51.5\n==============================================================================\n\nWarnings:\n[1] Standard Errors assume that the covariance matrix of the errors is correctly specified.\n\"\"\""
          },
          "metadata": {}
        }
      ]
    },
    {
      "metadata": {},
      "cell_type": "markdown",
      "source": "Interpreting the Table — With the constant term the coefficients are different. With a constant we are forcing our model to go ta y-intercept at -14.8, this would have the the slope of the x1 predictor as 4.2571.\n\nEquation of the line can be written as: \ny = -14.8 + 4.25 x\n\n"
    },
    {
      "metadata": {
        "trusted": true
      },
      "cell_type": "code",
      "source": "",
      "execution_count": null,
      "outputs": []
    },
    {
      "metadata": {},
      "cell_type": "markdown",
      "source": "#### 2. \nFind all local maxima, local minima, and saddle points for the function given below. Write your answer(s) in the form ( x, y, z ). Separate multiple points with a comma.\n$ f(x,y)=24x - 6xy^2 -8y^3 $"
    },
    {
      "metadata": {},
      "cell_type": "markdown",
      "source": " \n\n$$ f(x,y) =24x - 6xy^2 -8y^3  \\\\\n\\textrm{we will calcualte partial $\\partial$ derivative of f(x,y) wrt x and y. } \\\\\n\\frac{\\partial f}{\\partial x} = 24-6y^2 ......\\textrm{ keeping y as constant } .....=>eq(1)\\\\ \n=> 24-6y^2 = 0 ...\\textrm{ (f(x)=0 for ctrical point )}  \\\\\n=>y= \\sqrt{4} = \\pm 2 ..\\\\\n\\frac{\\partial f}{\\partial y} =-12xy-24y^2 ......\\textrm{ keeping x as constant }.....=>eq(2)\\\\ \n\\textrm{ using y=$\\pm$ 2 in eq 2 } \\\\\ny = 2,  x = -2y ,  x = -4 \\\\\ny = -2,  x = -2y ,  x = 4 \\\\\n\\textrm{ We have two critical point, lets check using 2nd derivative to find if its maxima or minima or saddle point}\n(4,-2) and (-4,2)\n$$\n\nCalculating 2nd Derivative \n\n$$\n\\frac{\\partial^2 f}{\\partial x^2} =0 \\\\\n\\frac{\\partial^2 f}{\\partial y^2} =-12x-48y \\\\\n\\frac{\\partial^2 f}{\\partial x \\partial y} = -12y \\\\\n$$\n\n---------------------------------------------------------------------\n|  ....Derivatives \\ Point.... | (4,-2)  |  (-4,2) |   |   |\n|:---------------------------------------------------------------------:|---|---|---|---|\n|  $\\frac{\\partial f}{\\partial x}$                                    | 0  |   0|   |   |\n|  $\\frac{\\partial f}{\\partial y}$                                    |  8 |  -8 |   |   |\n|  $\\frac{\\partial^2 f}{\\partial x \\partial y}$                       |   24|-24   |   |   |\n| $D(a,b)= \\frac{\\partial f}{\\partial x}*\\frac{\\partial f}{\\partial y} - (\\frac{\\partial^2 f}{\\partial x \\partial y})^2 $|  -576 |-576   |   |   |\n\n\n\n"
    },
    {
      "metadata": {},
      "cell_type": "markdown",
      "source": "Since -576 is a negative number and less than 0, we can say that its a saddle point. (Neither local maximum or minimum) also sine value is not equal to 0  so our 2nd derivative test is valid (inconclusive is =0).\n\n"
    },
    {
      "metadata": {},
      "cell_type": "markdown",
      "source": "#### 3. \n\nA grocery store sells two brands of a product, the “house” brand and a “name” brand. The manager estimates that if she sells the “house” brand for x dollars and the “name” brand for y dollars, she will be able to sell 81 - 21 x + 17 y units of the “house” brand and 40 + 11 x - 23 y units of the “name” brand.\n\nStep 1. Find the revenue function R ( x, y ).\n\nRevenue for House brand: $R(x)=x∗(81−21x+17y)$\nRevenue for name brand: $R(y)=y∗(40+11x−23y)$\n\nTotal Revenue: $R(x,y)=x∗(81−21x+17y)+y∗(40+11x−23y)$\n\n$R(x,y)=81x−21x^2+17xy+40y+11xy−23y^2$\n\n$R(x,y)= - 21x^2 - 23y^2 + 28xy + 81x + 40y $"
    },
    {
      "metadata": {
        "trusted": true
      },
      "cell_type": "code",
      "source": "def get_rev(x,y):\n return ((- 21*x**2 )- (23*y**2) + (28*x*y) + (81*x) + (40*y))\n ",
      "execution_count": 11,
      "outputs": []
    },
    {
      "metadata": {},
      "cell_type": "markdown",
      "source": "Step 2. What is the revenue if she sells the \"house\" brand for \\$2.30 and the \"name\" brand for \\$4.10?"
    },
    {
      "metadata": {
        "trusted": true
      },
      "cell_type": "code",
      "source": "print(\" \\\"house\\\" brand for $2.30 and the \\\"name\\\" brand for $4.10, wold result in revenue => \", round(get_rev(2.30,4.10),2))",
      "execution_count": 12,
      "outputs": [
        {
          "output_type": "stream",
          "text": " \"house\" brand for $2.30 and the \"name\" brand for $4.10, wold result in revenue =>  116.62\n",
          "name": "stdout"
        }
      ]
    },
    {
      "metadata": {},
      "cell_type": "markdown",
      "source": "#### 4.\nA company has a plant in Los Angeles and a plant in Denver. The firm is committed to produce a total of 96 units of a product each week. The total weekly cost is given by $C(x,y) = \\frac{1}{6} x^2 + \\frac{1}{6} y^2 + 7x + 25y + 700$ , where x is the number of units produced in Los Angeles and y is the number of units produced in Denver. How many units should be produced in each plant to minimize the total weekly cost?"
    },
    {
      "metadata": {},
      "cell_type": "markdown",
      "source": " Number of Units from LA = x\n Number of Units from Denver = y\n x + 7 = 96 (given), we will find best value of x and y where cost can be mimunum . I.e. cost /value  of the function f(x,y) = c(c,y) at the crtical point . \n\n$\n\\textrm{Total unit per week} => x+y=96 \\\\\nC(x,y) = \\frac{1}{6}x^2 + \\frac{1}{6}y^2 +7x +25y +700 \\\\\nC(x) = \\frac{1}{6}x^2 + \\frac{1}{6}(96-x)^2 +7x +25(96-x) +700\\\\\nC(x) = \\frac{1}{6}x^2 + 1536-32x + \\frac{1}{6}x^2 +7x +2400-25x +700 \\\\\nC(x) = \\frac{1}{3}x^2 -50x +4636 \\\\\n\\frac{dC}{dx} = \\frac{2}{3}x -50 =0  ...\\textrm{1st derivative}\\\\\nx = 75 \\\\\n\\frac{d^2C}{dx^2} = \\frac{2}{3}....\\textrm{2nd derivative}$\n\nSince 2/3 (2nd derivative test is >0, for x = 75 , this means that this value of x = 75 and y= 96-75= 21 is the local Minima.\nThis shows that 75 units in L.A. and 21 units in Denver would result in less cost."
    },
    {
      "metadata": {
        "trusted": true
      },
      "cell_type": "code",
      "source": "def get_cost(x,y):\n return (((1/6)*𝑥**2)+(16*𝑦**2)+(7*𝑥)+(25*𝑦)+700)\n\nget_cost(74,22),get_cost(75,21),  get_cost(76,20), ",
      "execution_count": 15,
      "outputs": [
        {
          "output_type": "execute_result",
          "execution_count": 15,
          "data": {
            "text/plain": "(10424.666666666666, 9743.5, 9094.666666666668)"
          },
          "metadata": {}
        }
      ]
    },
    {
      "metadata": {},
      "cell_type": "markdown",
      "source": "#### 5.\nEvaluate the double integral on the given region.\n\n$ \\int \\int_R (e^{8x + 3y}) dA; R: 2 \\leq x \\leq 4 \\ { and } \\ 2 \\leq y \\leq 4  $  \nWrite your answer in exact form without decimals."
    },
    {
      "metadata": {},
      "cell_type": "markdown",
      "source": "$A = \\int_2^4\\int_2^4 e^{(8x + 3y)} dA \\\\\n = \\int_2^4\\int_2^4 e^{8x} e^{3y} dxdy \\\\\n = \\int_2^4 e^{8x}dx * \\int_2^4 e^{3y}dy \\\\\n = \\frac{1}{8} e^{8x}\\Big|_2^4 * \\frac{1}{3} e^{3y}\\Big|_2^4 \\\\\n = \\frac{1}{24}e^{8x}\\Big|_2^4 *  e^{3y}\\Big|_2^4 \\\\\n = \\frac{1}{24} (e^{32} - e^{16} )( e^{12} - e^{6})\\\\\n$"
    },
    {
      "metadata": {
        "trusted": true
      },
      "cell_type": "code",
      "source": "",
      "execution_count": null,
      "outputs": []
    },
    {
      "metadata": {},
      "cell_type": "markdown",
      "source": "ref: https://www.youtube.com/watch?v=odkaPgWPQGo\nref: https://towardsdatascience.com/simple-and-multiple-linear-regression-in-python-c928425168f9"
    },
    {
      "metadata": {
        "trusted": true
      },
      "cell_type": "code",
      "source": "",
      "execution_count": null,
      "outputs": []
    }
  ],
  "metadata": {
    "kernelspec": {
      "name": "python36",
      "display_name": "Python 3.6",
      "language": "python"
    },
    "language_info": {
      "mimetype": "text/x-python",
      "nbconvert_exporter": "python",
      "name": "python",
      "pygments_lexer": "ipython3",
      "version": "3.6.6",
      "file_extension": ".py",
      "codemirror_mode": {
        "version": 3,
        "name": "ipython"
      }
    }
  },
  "nbformat": 4,
  "nbformat_minor": 2
}