{
  "cells": [
    {
      "metadata": {
        "collapsed": true
      },
      "cell_type": "markdown",
      "source": "##### Question "
    },
    {
      "metadata": {},
      "cell_type": "raw",
      "source": "Smith is in jail and has 1 dollar; he can get out on bail if he has 8 dollars.\nA guard agrees to make a series of bets with him. If Smith bets A dollars,\nhe wins A dollars with probability .4 and loses A dollars with probability .6.\nFind the probability that he wins 8 dollars before losing all of his money if\n(a) he bets 1 dollar each time (timid strategy).\n(b) he bets, each time, as much as possible but not more than necessary to\nbring his fortune up to 8 dollars (bold strategy).\n(c) Which strategy gives Smith the better chance of getting out of jail?"
    },
    {
      "metadata": {},
      "cell_type": "markdown",
      "source": "#### Solution Part A:\nWe need find the vlaue of z (from the Gambler's Ruin problem ) where Pz is the probability of reaching M= 8 wiothut reaching 0. here : $$ \np (\\textrm{Prbability of wining} ) = p = .4\\\\\nq (\\textrm{Probablity of Lossing}) =1-p=q=.6 \\\\\nz = 1 \\\\\nM = 8 \\\\\n\\frac{q}{p} = \\frac{0.6}{0.4} = 1.5 $$"
    },
    {
      "metadata": {},
      "cell_type": "markdown",
      "source": "$$ P = \\frac{1-(\\frac{q}{p})^z}{1-(\\frac{q}{p})^M} \\\\\nP = \\frac{1-1.5^{1}}{1-1.5^{8}} $$"
    },
    {
      "metadata": {
        "trusted": true
      },
      "cell_type": "code",
      "source": "import numpy as np\n\np = 0.4\nq = 0.6\nqbyp = q/p\n\np8 = round((1-qbyp**1)/(1-qbyp**8),4)\n\nprint(\"Probability of reaching $8 without going to $0 is:\",p8)\n",
      "execution_count": 7,
      "outputs": [
        {
          "output_type": "stream",
          "text": "Probability of reaching $8 without going to $0 is: 0.0203\n",
          "name": "stdout"
        }
      ]
    },
    {
      "metadata": {},
      "cell_type": "markdown",
      "source": "(b) he bets, each time, as much as possible but not more than necessary to bring his fortune up to 8 dollars (bold strategy)."
    },
    {
      "metadata": {},
      "cell_type": "markdown",
      "source": "Here Smith would spend \\$1 and would get \\$2 if he wins, and \\$4 if he wins again and \\$8 if he wins again, asumaing he is betting with all the money he got from each bet. so In this case we need to find how soon we can reach maximum probability with stage of $8.\n\nSo if Smith bets with \\$2 he will either win \\$4 or loose \\$2 and reach \\$0. Hence all the stage would have probability of.6 for \\$0 state.\n\n| Gain | State | 0   | 1   | 2   | 4   | 8   |\n|:----:|------|-----|-----|-----|-----|-----|\n| 0    | 0    | 1   | 0   | 0   | 0   | 0   |\n| 0+1  | 1    | 0.6 | 0   | 0.4 | 0   | 0   |\n| 1+1  | 2    | 0.6   | 0 | 0   | 0.4 | 0   |\n| 2+2  | 4    | 0.6   | 0   | 0 | 0   | 0.4 |\n| 4+4  | 8    | 0   | 0   | 0   | 0   | 1   |\n\nstarting state vector = v= [ 0,1,0,0,0]"
    },
    {
      "metadata": {
        "trusted": true
      },
      "cell_type": "code",
      "source": "import numpy as np\n\n# Probability Transition matrix\np = np.array([[1,0,0,0,0],\n              [0.6,0,0.4,0,0],\n              [0.6,0,0,0.4,0],\n              [0.6,0,0,0,0.4],\n              [0,0,0,0,1]])\n\n#stage zero vector, or starting stage \nSv = np.array([[0,1,0,0,0]])",
      "execution_count": 10,
      "outputs": []
    },
    {
      "metadata": {
        "trusted": true
      },
      "cell_type": "code",
      "source": "# Stage p1 after 1st Transition \np1 = Sv @ p\np1",
      "execution_count": 11,
      "outputs": [
        {
          "output_type": "execute_result",
          "execution_count": 11,
          "data": {
            "text/plain": "array([[0.6, 0. , 0.4, 0. , 0. ]])"
          },
          "metadata": {}
        }
      ]
    },
    {
      "metadata": {},
      "cell_type": "markdown",
      "source": "Result shows that at this point we have 0.6 probability of going to stage \\$0 and 0.4 to goto \\$2 stage."
    },
    {
      "metadata": {
        "trusted": true
      },
      "cell_type": "code",
      "source": "p2 = p1 @ p\np2",
      "execution_count": 12,
      "outputs": [
        {
          "output_type": "execute_result",
          "execution_count": 12,
          "data": {
            "text/plain": "array([[0.84, 0.  , 0.  , 0.16, 0.  ]])"
          },
          "metadata": {}
        }
      ]
    },
    {
      "metadata": {},
      "cell_type": "markdown",
      "source": "Result shows that at this point we have 0.84 probability of going to stage \\$0 and 0.16 to goto \\$4 stage."
    },
    {
      "metadata": {
        "trusted": true
      },
      "cell_type": "code",
      "source": "p3= p2 @ p\np3",
      "execution_count": 13,
      "outputs": [
        {
          "output_type": "execute_result",
          "execution_count": 13,
          "data": {
            "text/plain": "array([[0.936, 0.   , 0.   , 0.   , 0.064]])"
          },
          "metadata": {}
        }
      ]
    },
    {
      "metadata": {},
      "cell_type": "markdown",
      "source": "Result shows that at this point we have 0.936 probability of going to stage \\$0 and 0.064 to goto \\$8 stage."
    },
    {
      "metadata": {
        "trusted": true
      },
      "cell_type": "code",
      "source": "p4= p3 @ p\np5 = p4 @ p\np4,p5",
      "execution_count": 16,
      "outputs": [
        {
          "output_type": "execute_result",
          "execution_count": 16,
          "data": {
            "text/plain": "(array([[0.936, 0.   , 0.   , 0.   , 0.064]]),\n array([[0.936, 0.   , 0.   , 0.   , 0.064]]))"
          },
          "metadata": {}
        }
      ]
    },
    {
      "metadata": {
        "trusted": true
      },
      "cell_type": "markdown",
      "source": "here we have reached the stationary stage of  transtion matrix, and we are always getting probability of .064 for getting \\$8 without going \\$0."
    },
    {
      "metadata": {
        "trusted": true
      },
      "cell_type": "markdown",
      "source": "(c) Which strategy gives Smith the better chance of getting out of jail?`"
    },
    {
      "metadata": {},
      "cell_type": "markdown",
      "source": "Probability with Timid strategy :  0.0203\nProbability with Bold strategy : 0.064\nThis is very clear that Bold strategy gives more than three times probability of winning the bet. \n"
    },
    {
      "metadata": {
        "trusted": true
      },
      "cell_type": "code",
      "source": "",
      "execution_count": null,
      "outputs": []
    },
    {
      "metadata": {},
      "cell_type": "markdown",
      "source": "Using Binomial probability checking answer of Bold Strategy ."
    },
    {
      "metadata": {
        "trusted": true
      },
      "cell_type": "code",
      "source": "from scipy.stats import geom,binom,poisson\nimport math ",
      "execution_count": 39,
      "outputs": []
    },
    {
      "metadata": {
        "trusted": true
      },
      "cell_type": "code",
      "source": "# Probability Statement:\n# P(X=0 success in 8 yrs)\n\nn = 2 \np = .4 # Probabaility of Failure \nq = 1-p # Probability of success \nk = 2\n\nbp2 = binom.pmf(k,n,p)\nbp3 = binom.pmf(k+1,n+1,p)\nbp4 = binom.pmf(k+2,n+2,p)\n\nprint(\"probability that  Smith will win after 2 bets:\",round(bp2,3))\nprint(\"Expected value :\", round(n*p,3))\nprint(\"probability that  Smith will win after 3 bets:\",round(bp3,3))\nprint(\"Expected value :\", round(((n+1)*p),3))\n\n",
      "execution_count": 40,
      "outputs": [
        {
          "output_type": "stream",
          "text": "probability that  Smith will win after 2 bets: 0.16\nExpected value : 0.8\nprobability that  Smith will win after 3 bets: 0.064\nExpected value : 1.2\n",
          "name": "stdout"
        }
      ]
    },
    {
      "metadata": {
        "trusted": true
      },
      "cell_type": "code",
      "source": "",
      "execution_count": null,
      "outputs": []
    }
  ],
  "metadata": {
    "kernelspec": {
      "name": "python36",
      "display_name": "Python 3.6",
      "language": "python"
    },
    "language_info": {
      "mimetype": "text/x-python",
      "nbconvert_exporter": "python",
      "name": "python",
      "pygments_lexer": "ipython3",
      "version": "3.6.6",
      "file_extension": ".py",
      "codemirror_mode": {
        "version": 3,
        "name": "ipython"
      }
    }
  },
  "nbformat": 4,
  "nbformat_minor": 2
}