{
  "cells": [
    {
      "metadata": {
        "collapsed": true
      },
      "cell_type": "markdown",
      "source": "#### Q 1. \nUse integration by substitution to solve the integral below."
    },
    {
      "metadata": {},
      "cell_type": "markdown",
      "source": "$ \\int 4e^{-7x}dx \\\\\n\\textrm{Let } U = -7x \\\\\ndU = -7dx \\\\\ndx = \\frac{dU}{-7} \\\\\n(\\textrm{Replacing -7x and dx} ) \\\\\n=>4\\int e^U\\frac{dU}{-7} \\\\\n=\\frac{4}{-7}\\int e^UdU \\\\\n=\\frac{4}{-7} e^U + C \\\\\n=\\frac{4}{-7} e^{-7x} + C $"
    },
    {
      "metadata": {},
      "cell_type": "markdown",
      "source": "### Q 2. \nBiologists are treating a pond contaminated with bacteria. The level of contamination is changing at a rate of dN/dt=3150/t^4−220 bacteria per cubic centimeter per day, where t is the number of days since treatment began. Find a function N(t) to estimate the level of contamination if the level after 1 day was 6530 bacteria per cubic centimeter."
    },
    {
      "metadata": {},
      "cell_type": "markdown",
      "source": "$$\n\\frac{dN}{dt} =\\frac{3150}{t^4}-220 \\\\\ndN = (\\frac{3150}{t^4}-220)dt \\\\\nN = \\int \\frac{3150}{t^4}dt-\\int 220dt \\\\\nN = N_0 - \\frac{3150}{3t^3} - 220t \\\\\nN(1) = N_0 - \\frac{1050}{1^3} - 220(1) \\\\\nN_0 = 6530 + 1050 + 220 \\\\\nN_0 = 7800 \\\\\nN = 7800 - \\frac{1050}{t^3} - 220t\n$$"
    },
    {
      "metadata": {},
      "cell_type": "markdown",
      "source": "### Q3.\nFind the total area of the red rectangles in the figure below, where the 3. equation of the line is f ( x ) = 2x - 9."
    },
    {
      "metadata": {},
      "cell_type": "markdown",
      "source": "Area of rectangle is the area under the curve from 4.5 to 8.5\n\n$\nA = \\int_{4.5}^{8.5} 2x-9 dx \\\\\nA = [x^2 - 9x]|_{4.5}^{8.5} \\\\\nA = [8.5^2-9*8.5]-[4.5^2-9*4.5] \\\\\nA = 16\n$"
    },
    {
      "metadata": {},
      "cell_type": "markdown",
      "source": "### Q4\nFind the area of the region bounded by the graphs of the given equations.\n   \ny = x2 - 2x - 2\n\ny = x + 2\n\n$$ y = x^2 -2x-2 ...\\textrm{ Inner curve }\\\\ \ny =x+2 ....\\textrm{ Outer curve }\\\\\n$$\n\nBy solving :\n$$ x^2 -2x-2 = x+2 \\\\\n=>  x^2 -2x-x-2-2=0 \\\\ \n=> x^2 - 3x-4=0 \\\\\n=> x^2 + x - 4x -4 \\\\\n=> x(x+1)-4(x+1)\n=> (x + 1) ( x -4) = 0\\\\\nSo....x=-1 \\\\\nx = 4\\\\\n$$"
    },
    {
      "metadata": {
        "trusted": true
      },
      "cell_type": "code",
      "source": "",
      "execution_count": null,
      "outputs": []
    },
    {
      "metadata": {
        "trusted": true
      },
      "cell_type": "code",
      "source": "import pylab\nimport numpy\n\nx = range(-2,6) # 100 linearly spaced numbers\ny = [i**2-2*i-2 for i in x]  # computing the values of sin(x)/x\n\nx1 = range(-2,6) # 100 linearly spaced numbers\ny1 = [i+2 for i in x1]  # computing the values of sin(x)/x\n\n# compose plot\npylab.plot(x,y,label= \"y = x2 - 2x - 2,\" ) # \npylab.plot(x1,y1,label= \"y = x + 2\" ) # \npylab.legend()\npylab.show() # show the plot",
      "execution_count": 16,
      "outputs": [
        {
          "output_type": "display_data",
          "data": {
            "image/png": "[encoded data removed]",
            "text/plain": "<Figure size 432x288 with 1 Axes>"
          },
          "metadata": {
            "needs_background": "light"
          }
        }
      ]
    },
    {
      "metadata": {
        "trusted": true
      },
      "cell_type": "markdown",
      "source": "$$ y = x^2 -2x-2 ...\\textrm{ Inner curve }\\\\ \ny =x+2 ....\\textrm{ Outer curve }\\\\\n\\textrm{Area under both the curve = Outer - Inner Curve's area}\\\\\nA = \\int_{-1}^{4}x+2 dx -\\int_{-1}^{4}x^2 -2x-2 dx\\\\\nA = \\frac{1}{2}x^2|_{-1}^{4} +2x|_{-1}^{4} -[\\frac{1}{3}x^3 - x^2 -2x]|_{-1}^{4} \\\\\nA = -[\\frac{1}{3}x^3 - \\frac{3}{2}x^2 -4x]|_{-1}^{4} \\\\\nA = [\\frac{3}{2}x^2 +4x -\\frac{1}{3}x^3]|_{-1}^{4}\n$$"
    },
    {
      "metadata": {
        "trusted": true
      },
      "cell_type": "code",
      "source": "x= 4\n\nA1 = ((3/2)*𝑥**2)+(4*𝑥)-((1/3)*𝑥**3)\n\nx = -1\n\nA2 = ((3/2)*𝑥**2)+(4*𝑥)-((1/3)*𝑥**3)\n\nA = A1-A2\nprint(\"area of the region bounded by the graphs of the given equations: \",round(A,3))",
      "execution_count": 28,
      "outputs": [
        {
          "output_type": "stream",
          "text": "area of the region bounded by the graphs of the given equations:  20.833\n",
          "name": "stdout"
        }
      ]
    },
    {
      "metadata": {
        "trusted": true
      },
      "cell_type": "code",
      "source": "",
      "execution_count": null,
      "outputs": []
    },
    {
      "metadata": {
        "trusted": true
      },
      "cell_type": "markdown",
      "source": "### Q 5\nA beauty supply store, expects to sell 110 flat irons during the next year. It costs $3.75 to store one flat iron for one year. There is a fixed cost of $8.25 for each order. Find the lot size and the number of orders per year that will minimize inventory costs.\n\nLet C be cost, r be the number of orders per year, and x be the number of irons in an order. rx=110 so x=110r, assume half an order is in storage at on average. Such that,\n\n$$\n\\textrm{ let C is a COST }\\\\ \\textrm{ r =>number of orders/year } \\\\\\textrm{  x => number of irons/order  }\\\\\nC = 8.25r + \\frac{3.75x}{2} \\\\\nC = 8.25r+\\frac{206.25}{r} \\\\\nC' = 8.25 - \\frac{206.25}{r^2} \\\\\nC' = 0 \\\\\nr = \\sqrt{\\frac{206.25}{8.25}}\\\\\nr = 5 \\space\\text{orders per year}\n$$"
    },
    {
      "metadata": {},
      "cell_type": "markdown",
      "source": "### Q 6. \nUse integration by parts to solve the integral below.\n"
    },
    {
      "metadata": {},
      "cell_type": "markdown",
      "source": ""
    },
    {
      "metadata": {},
      "cell_type": "markdown",
      "source": "$ \n\\int ln(9x)*x^6dx \\\\\nU = ln(9x) \\\\\ndU = \\frac{1}{x}dx \\\\\ndV = x^6dx \\\\\nV = \\frac{1}{7}x^7 \\\\\n\\int UdV = UV - \\int VdU \\\\\n\\frac{1}{7}ln(9x)x^7 - \\frac{1}{7}\\int x^6dx \\\\\n\\frac{1}{7}x^7[ln(9x) - \\frac{1}{7}]\n$"
    },
    {
      "metadata": {},
      "cell_type": "markdown",
      "source": "### Q7.\nDetermine whether f(x) is a probability density function, on the interval $[1, e^6]$. If not, determine the value of the definite integral. $ f ( x ) = 1 / 6x $\n\nfor f(x) to be a probability density function:\n\nif f(x) is PDF then f(x) >= 0, and we have been given the range of x i.e $[1, e^6]$, which mean that $ e^6 <= x <=1 $\n\nSInce we are talking about PDF, probability density function, then f(x) should be equal to 1 for it to be PDF.\n\n"
    },
    {
      "metadata": {},
      "cell_type": "markdown",
      "source": "$F(x) = \\int_{1}^{e^6} f(x)dx = 1 \\\\\nf(x) = \\frac{1}{6x} \\\\\nF(x) = \\int_{1}^{e^6} \\frac{1}{6x}dx \\\\\nF(x) = \\frac{1}{6} \\int_{1}^{e^6} \\frac{1}{x}dx \\\\\nF(x) = \\frac{1}{6} ln(x)|_1^{e^6} \\\\\nF(x) = \\frac{1}{6} [ln(e^6) - ln(1)] \\\\\nF(x) = \\frac{1}{6} [6-0] = 1\n$\n\nf(x) is a probability density function on the interval $[1,e^6]$\n\n"
    },
    {
      "metadata": {
        "trusted": true
      },
      "cell_type": "code",
      "source": "    ",
      "execution_count": null,
      "outputs": []
    }
  ],
  "metadata": {
    "kernelspec": {
      "name": "python36",
      "display_name": "Python 3.6",
      "language": "python"
    },
    "language_info": {
      "mimetype": "text/x-python",
      "nbconvert_exporter": "python",
      "name": "python",
      "pygments_lexer": "ipython3",
      "version": "3.6.6",
      "file_extension": ".py",
      "codemirror_mode": {
        "version": 3,
        "name": "ipython"
      }
    }
  },
  "nbformat": 4,
  "nbformat_minor": 2
}