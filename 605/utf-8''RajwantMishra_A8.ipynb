{
  "cells": [
    {
      "metadata": {
        "collapsed": true
      },
      "cell_type": "markdown",
      "source": "### 1.\nA company buys 100 lightbulbs, each of which has an exponential lifetime of 1000 hours. What is the expected time for the first of these bulbs to burn out? (See Exercise 10.)\n\nAnswer:\nThe mean of an exponential distribution is just the reciprocal of its exponential parameter. i.e μ  = 1/λ . \n\n$$ \\lambda = \\frac{1}{1000} $$\n\n$$ n \\lambda = 100 * \\frac{1}{1000} = \\frac{1}{10} $$\n\n$$ Taking \\space CDF \\space : P(min {X1, X2, . . . , Xn} <= x) = 1-e^{-\\frac{1}{10}x} $$\n\n$$ E[minX_i]= \\frac{1}{\\frac{1}{10}}=10 $$\n\nSo the expected time for the first of these bulbs to burn out is 10 h."
    },
    {
      "metadata": {
        "trusted": true
      },
      "cell_type": "code",
      "source": "",
      "execution_count": null,
      "outputs": []
    },
    {
      "metadata": {},
      "cell_type": "markdown",
      "source": "### 2.\nAssume that X1 and X2 are independent random variables, each having an exponential density with parameter λ. Show that Z = X1 − X2 has density fZ(z)=(1/2)λe−^(λ|z|).\n\n$$  f_Z(z) = (1/2)\\lambda e^{-\\lambda|z|} $$"
    },
    {
      "metadata": {},
      "cell_type": "markdown",
      "source": "Solution:\nLet X1, X2 , and Z = X1 - X2 denote the relevant random variables, and fX1, fY1 ,\nand fZ their densities. Then\n\n$$ BY Z = X1 - X2 , we \\space can \\space say\\space that \\space X1 = Z + X2 \\\\\nif \\space z >= 0..................Then, \\\\\n\\begin{equation}\n\\int\\limits_{-\\infty}^\\infty f_{X_1}(x_1)f_{X_2}(x_2)\\; \\mathrm{d}x\n= \\int\\limits_{0}^Z f_{X_1}(Z + X_2)f_{-X_2}(X_2)\\; \\mathrm{d}X_2 \n\\end{equation} \\\\\n= \\int\\limits_{0}^Z λ*e^{-λz-λX_2} * λ*e^{-λX_2}\\; \\mathrm{d}X_2  \\\\\n= \\int\\limits_{0}^Z λ^2 e^{-λz} e^{-2λX_2} \\; \\mathrm{d}X_2 \\\\\n= λ^2 e^{-λz} \\int\\limits_{0}^Z e^{-2λX_2} \\; \\mathrm{d}X_2 \\\\\n= \\frac{1}{2}λ e^{-λ(z)}$$\n\nfor z<0, distribution would be same but in opposite direction since X1 and X2 are independent and identically distributed.\n\n$$ = \\frac{1}{2}λ e^{λ(z)}$$ \n\nso final we can say that  : \n$$ \nf_Z(z) = (1/2)\\lambda e^{-\\lambda|z|}\n$$"
    },
    {
      "metadata": {},
      "cell_type": "markdown",
      "source": ""
    },
    {
      "metadata": {},
      "cell_type": "markdown",
      "source": "### 3. \nLet X be a continuous random variable with mean μ = 10 and variance σ2 = 100/3. Using Chebyshev’s Inequality, find an upper bound for the following probabilities."
    },
    {
      "metadata": {},
      "cell_type": "markdown",
      "source": "Chebyshev’s Inequality  If X is a random variable with mean μ and variance σ2,then\n$$  P(|X - \\mu| \\leq k\\sigma) \\leq \\frac{1}{k^2} $$\n\na. P(|X−10|≥2)"
    },
    {
      "metadata": {
        "trusted": true
      },
      "cell_type": "code",
      "source": "import numpy as np\nimport math as mp\n\nmu = 10\nvar = 100/3\nk = 2/mp.sqrt(var)\nprint(\" P(|X−10|≥2) = \" , round(1/k**2,4))\n",
      "execution_count": 10,
      "outputs": [
        {
          "output_type": "stream",
          "text": " P(|X−10|≥2) =  8.3333\n",
          "name": "stdout"
        }
      ]
    },
    {
      "metadata": {},
      "cell_type": "markdown",
      "source": "b. P(|X−10|≥5)"
    },
    {
      "metadata": {
        "trusted": true
      },
      "cell_type": "code",
      "source": "k = 5/mp.sqrt(var)\nprint(\" P(|X−10|≥5) = \" , round(1/k**2,4))\n",
      "execution_count": 11,
      "outputs": [
        {
          "output_type": "stream",
          "text": " P(|X−10|≥2) =  1.3333\n",
          "name": "stdout"
        }
      ]
    },
    {
      "metadata": {},
      "cell_type": "markdown",
      "source": "c. P(|X−10|≥9)"
    },
    {
      "metadata": {
        "trusted": true
      },
      "cell_type": "code",
      "source": "k = 9/mp.sqrt(var)\nprint(\"P(|X−10|≥9) = \" , round(1/k**2,4))\n",
      "execution_count": 14,
      "outputs": [
        {
          "output_type": "stream",
          "text": "P(|X−10|≥9) =  0.4115\n",
          "name": "stdout"
        }
      ]
    },
    {
      "metadata": {},
      "cell_type": "markdown",
      "source": "d. P(|X − 10| ≥ 20)"
    },
    {
      "metadata": {
        "trusted": true
      },
      "cell_type": "code",
      "source": "k = 20/mp.sqrt(var)\nprint(\" P(|X − 10| ≥ 20) = \" , round(1/k**2,4))\n",
      "execution_count": 13,
      "outputs": [
        {
          "output_type": "stream",
          "text": " P(|X − 10| ≥ 20) =  0.0833\n",
          "name": "stdout"
        }
      ]
    },
    {
      "metadata": {
        "trusted": true
      },
      "cell_type": "code",
      "source": "",
      "execution_count": null,
      "outputs": []
    }
  ],
  "metadata": {
    "kernelspec": {
      "name": "python36",
      "display_name": "Python 3.6",
      "language": "python"
    },
    "language_info": {
      "mimetype": "text/x-python",
      "nbconvert_exporter": "python",
      "name": "python",
      "pygments_lexer": "ipython3",
      "version": "3.6.6",
      "file_extension": ".py",
      "codemirror_mode": {
        "version": 3,
        "name": "ipython"
      }
    }
  },
  "nbformat": 4,
  "nbformat_minor": 2
}