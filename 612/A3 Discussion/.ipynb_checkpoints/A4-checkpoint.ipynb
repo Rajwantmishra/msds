{
 "cells": [
  {
   "cell_type": "markdown",
   "metadata": {},
   "source": [
    "### France's Notre Dame and Youtube\n",
    "\n",
    "In April 2019, we all saw Notre Dame accident. But apart for this tragic incident we also had a tragic recommendation system failure. Youtube one of the known expert with their recommendation, started throwing wrong information about the accident which no one thought or would never think so soon as the event occurred.\n",
    "\n",
    " \n",
    "\n",
    "Youtube flagged the event as 9/11 attack and showed text about the event from history.\n",
    "\n",
    "![](https://www.niemanlab.org/images/france24-notre-dame-crop-700x547.jpg)"
   ]
  },
  {
   "cell_type": "markdown",
   "metadata": {},
   "source": [
    "<html><blockquote class=\"twitter-tweet\" data-lang=\"en\"><p lang=\"en\" dir=\"ltr\">Why in the world is <a href=\"https://twitter.com/YouTube?ref_src=twsrc%5Etfw\">@YouTube</a> putting information about 9/11 underneath the Notre Dame livestream from <a href=\"https://twitter.com/FRANCE24?ref_src=twsrc%5Etfw\">@FRANCE24</a>?<br><br>(Especially since it seems like, at least right now, ongoing renovations are the most likely cause, no indication of terror) <a href=\"https://t.co/A3HP36epxx\">https://t.co/A3HP36epxx</a> <a href=\"https://t.co/ZheCMC5pcG\">pic.twitter.com/ZheCMC5pcG</a></p>&mdash; Joshua Benton (@jbenton) <a href=\"https://twitter.com/jbenton/status/1117846851124899841?ref_src=twsrc%5Etfw\">April 15, 2019</a></blockquote>\n",
    "<script async src=\"https://platform.twitter.com/widgets.js\" charset=\"utf-8\"></script>\n",
    "</html>"
   ]
  },
  {
   "cell_type": "markdown",
   "metadata": {},
   "source": [
    "All over the world, tweeter and media noted this and was flagged as one of the failures in the recommendation system. As per official blog from youtube dating back to 2018 can be taken as the major contributor here. (link at the end).\n",
    "\n",
    "Here Youtube is trying to fight with fake news and is trying to give facts about the event assuming it would never have it in another form (very serious gap). Youtube use to get data from Wiki and Encylopedia and support the content or the video with some text about the event so that people can get some idea about the video and take the decision to watch the right video. Some other objectives include : \n",
    "\n",
    "+ Providing more sources and context on breaking news\n",
    "+ Expanding Top News and Breaking News\n",
    "+ Making authoritative sources readily accessible\n",
    "\n",
    "Some sinppets from project:\n",
    "<img border=\"0\" height=\"400\" width=\"400\" src=\"https://2.bp.blogspot.com/-sgc3fRBPg10/W0UeaoCouOI/AAAAAAAAAcY/vokoB-3DaLc4q_Uw_IrDW0KpRVZHMR_xgCLcBGAs/s1600/News_blog_2.png\">\n",
    "\n",
    "\n",
    "<img border=\"0\" height=\"400\" width=\"400\" src=\"https://lh6.googleusercontent.com/Hqcy7sVB16np7GSpV8FU9DmCIAoTH9NSz9_aDp1eimz_yF4M9jmyGQSDAoHxW1XissV-1Tc-5WBEycD489B17rK4PVRn2bue2iVajdDWr7h0BT9_9gqUoEqTf10MdiWqf2QKIA9u\">\n",
    "\n"
   ]
  },
  {
   "cell_type": "markdown",
   "metadata": {},
   "source": [
    "Youtube agreed that These panels were triggered algorithmically related to the fire and they were able to turn off the respective rule. This gives us how categorically youtube has applied the algorithm and also the ability to bring the feature down is one positive take away from this incident."
   ]
  },
  {
   "cell_type": "markdown",
   "metadata": {},
   "source": [
    "Ref:  \n",
    "+ [Youtube Project](https://youtube.googleblog.com/2018/07/building-better-news-experience-on.html)\n",
    "+ [NYT](https://www.niemanlab.org/2019/04/as-notre-dame-burned-an-algorithmic-error-at-youtube-put-information-about-9-11-under-news-videos/)"
   ]
  },
  {
   "cell_type": "code",
   "execution_count": null,
   "metadata": {},
   "outputs": [],
   "source": []
  },
  {
   "cell_type": "code",
   "execution_count": null,
   "metadata": {},
   "outputs": [],
   "source": []
  }
 ],
 "metadata": {
  "kernelspec": {
   "display_name": "Python 3",
   "language": "python",
   "name": "python3"
  },
  "language_info": {
   "codemirror_mode": {
    "name": "ipython",
    "version": 3
   },
   "file_extension": ".py",
   "mimetype": "text/x-python",
   "name": "python",
   "nbconvert_exporter": "python",
   "pygments_lexer": "ipython3",
   "version": "3.7.3"
  }
 },
 "nbformat": 4,
 "nbformat_minor": 2
}
