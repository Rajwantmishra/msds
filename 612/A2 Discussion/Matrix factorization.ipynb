{
 "cells": [
  {
   "cell_type": "markdown",
   "metadata": {},
   "source": [
    "## Matrix factorization"
   ]
  },
  {
   "cell_type": "markdown",
   "metadata": {},
   "source": [
    "Matrix factorization, is a technique which is focused on reducing the size of the User-Item Matrix or any Matrix for that matter, by identifying the factors of it. \n",
    " \n",
    "For example if we have to see below matrix :\n",
    "\n",
    "$$\n",
    "\\left( \\begin{matrix}3 & 4 & 5 \\\\ 6 & 8 & 10 \\end{matrix} \\right) = \\left( \\begin{matrix}1 \\\\ 2 \\end{matrix} \\right) \\left( \\begin{matrix}3 & 4 & 5 \\end{matrix} \\right)\n",
    "$$\n",
    "<center>Part Final = (Part 1)  (Part B) <center>\n"
   ]
  },
  {
   "cell_type": "markdown",
   "metadata": {},
   "source": [
    "Part final is 2 X 3 matrix, which is the dot product of two Matrix Part-A Part-B.\n",
    "\n",
    "Now let's say we have 200 Movies and 100 User, what would be the size of User-Item matrix? See below the size would be 20K rows and column. \n"
   ]
  },
  {
   "cell_type": "markdown",
   "metadata": {},
   "source": [
    "![](matrix1.png)"
   ]
  },
  {
   "cell_type": "markdown",
   "metadata": {},
   "source": [
    "Imagine the scale for big organization to store such info which is not just in couple of hundreds, This presents a big data storage cost and performance bottleneck, as size keep increasing.\n",
    "Check below how a single increase in User or Movie has impacted the size of matrix. \n"
   ]
  },
  {
   "cell_type": "markdown",
   "metadata": {},
   "source": [
    "Increase in User By 1:\n",
    "\n",
    "<style type=\"text/css\">\n",
    ".tg  {border-collapse:collapse;border-spacing:0;}\n",
    ".tg td{font-family:Arial, sans-serif;font-size:14px;padding:10px 5px;border-style:solid;border-width:1px;overflow:hidden;word-break:normal;border-color:black;}\n",
    ".tg th{font-family:Arial, sans-serif;font-size:14px;font-weight:normal;padding:10px 5px;border-style:solid;border-width:1px;overflow:hidden;word-break:normal;border-color:black;}\n",
    ".tg .tg-0pky{border-color:inherit;text-align:left;vertical-align:top}\n",
    "</style>\n",
    "<table class=\"tg\">\n",
    "  <tr>\n",
    "    <th class=\"tg-0pky\">User</th>\n",
    "    <th class=\"tg-0pky\">Movie</th>\n",
    "    <th class=\"tg-0pky\"> </th>\n",
    "    <th class=\"tg-0pky\">User -Item Matrix<br>&nbsp;&nbsp;Size</th>\n",
    "  </tr>\n",
    "  <tr>\n",
    "    <td class=\"tg-0pky\">100</td>\n",
    "    <td class=\"tg-0pky\">200</td>\n",
    "    <td class=\"tg-0pky\"> </td>\n",
    "    <td class=\"tg-0pky\">20000</td>\n",
    "  </tr>\n",
    "  <tr>\n",
    "    <td class=\"tg-0pky\">101</td>\n",
    "    <td class=\"tg-0pky\">200</td>\n",
    "    <td class=\"tg-0pky\"> </td>\n",
    "    <td class=\"tg-0pky\">20200</td>\n",
    "  </tr>\n",
    "  <tr>\n",
    "    <td class=\"tg-0pky\">102</td>\n",
    "    <td class=\"tg-0pky\">200</td>\n",
    "    <td class=\"tg-0pky\"> </td>\n",
    "    <td class=\"tg-0pky\">20400</td>\n",
    "  </tr>\n",
    "  <tr>\n",
    "    <td class=\"tg-0pky\">103</td>\n",
    "    <td class=\"tg-0pky\">200</td>\n",
    "    <td class=\"tg-0pky\"> </td>\n",
    "    <td class=\"tg-0pky\">20600</td>\n",
    "  </tr>\n",
    "  <tr>\n",
    "    <td class=\"tg-0pky\">104</td>\n",
    "    <td class=\"tg-0pky\">200</td>\n",
    "    <td class=\"tg-0pky\"> </td>\n",
    "    <td class=\"tg-0pky\">20800</td>\n",
    "  </tr>\n",
    "  <tr>\n",
    "    <td class=\"tg-0pky\">105</td>\n",
    "    <td class=\"tg-0pky\">200</td>\n",
    "    <td class=\"tg-0pky\"> </td>\n",
    "    <td class=\"tg-0pky\">21000</td>\n",
    "  </tr>\n",
    "</table>"
   ]
  },
  {
   "cell_type": "markdown",
   "metadata": {},
   "source": [
    "Increase in Movie By 1:\n",
    "\n",
    "<style type=\"text/css\">\n",
    ".tg  {border-collapse:collapse;border-spacing:0;}\n",
    ".tg td{font-family:Arial, sans-serif;font-size:14px;padding:10px 5px;border-style:solid;border-width:1px;overflow:hidden;word-break:normal;border-color:black;}\n",
    ".tg th{font-family:Arial, sans-serif;font-size:14px;font-weight:normal;padding:10px 5px;border-style:solid;border-width:1px;overflow:hidden;word-break:normal;border-color:black;}\n",
    ".tg .tg-0pky{border-color:inherit;text-align:left;vertical-align:top}\n",
    ".tg .tg-0lax{text-align:left;vertical-align:top}\n",
    "</style>\n",
    "<table class=\"tg\">\n",
    "  <tr>\n",
    "    <th class=\"tg-0pky\">User</th>\n",
    "    <th class=\"tg-0lax\">Movie</th>\n",
    "    <th class=\"tg-0lax\"></th>\n",
    "    <th class=\"tg-0lax\">User -Item Matrix Size</th>\n",
    "  </tr>\n",
    "  <tr>\n",
    "    <td class=\"tg-0lax\">100</td>\n",
    "    <td class=\"tg-0lax\">200</td>\n",
    "    <td class=\"tg-0lax\"></td>\n",
    "    <td class=\"tg-0lax\">20000</td>\n",
    "  </tr>\n",
    "  <tr>\n",
    "    <td class=\"tg-0lax\">100</td>\n",
    "    <td class=\"tg-0lax\">201</td>\n",
    "    <td class=\"tg-0lax\"></td>\n",
    "    <td class=\"tg-0lax\">20100</td>\n",
    "  </tr>\n",
    "  <tr>\n",
    "    <td class=\"tg-0lax\">100</td>\n",
    "    <td class=\"tg-0lax\">202</td>\n",
    "    <td class=\"tg-0lax\"></td>\n",
    "    <td class=\"tg-0lax\">20200</td>\n",
    "  </tr>\n",
    "  <tr>\n",
    "    <td class=\"tg-0lax\">100</td>\n",
    "    <td class=\"tg-0lax\">203</td>\n",
    "    <td class=\"tg-0lax\"></td>\n",
    "    <td class=\"tg-0lax\">20300</td>\n",
    "  </tr>\n",
    "  <tr>\n",
    "    <td class=\"tg-0lax\">100</td>\n",
    "    <td class=\"tg-0lax\">204</td>\n",
    "    <td class=\"tg-0lax\"></td>\n",
    "    <td class=\"tg-0lax\">20400</td>\n",
    "  </tr>\n",
    "  <tr>\n",
    "    <td class=\"tg-0lax\">100</td>\n",
    "    <td class=\"tg-0lax\">205</td>\n",
    "    <td class=\"tg-0lax\"></td>\n",
    "    <td class=\"tg-0lax\">20500</td>\n",
    "  </tr>\n",
    "</table>"
   ]
  },
  {
   "cell_type": "markdown",
   "metadata": {},
   "source": [
    "But in contrast if we can identify some attributes and the relation of the those attributes with Movie and Users  \n",
    "\n",
    "\n",
    "Now let’s see how we can bring factors in it. Lets say there are some attributes about Movie, then we can reduce the size of matrix to some extent. Let’s say in the above case we have 10 different attribute we want to group of movies and user’s liking.  So we will create a matrix of 100 users with 10 features, we call it User Features Matrix. Similarly we will create Movie Feature Matrix  as shown below :\n",
    "\n"
   ]
  },
  {
   "cell_type": "markdown",
   "metadata": {},
   "source": [
    "\n",
    "+ MATRIX A: User Feature matrix with 10 Features \n",
    "+ MATRIX B: Movie Feature Matrix with 10 Features \n",
    "+ Total Size (A + B): Total size of the Matrix created in system \n",
    "\n",
    "<style type=\"text/css\">\n",
    ".tg  {border-collapse:collapse;border-spacing:0;}\n",
    ".tg td{font-family:Arial, sans-serif;font-size:14px;padding:10px 5px;border-style:solid;border-width:1px;overflow:hidden;word-break:normal;border-color:black;}\n",
    ".tg th{font-family:Arial, sans-serif;font-size:14px;font-weight:normal;padding:10px 5px;border-style:solid;border-width:1px;overflow:hidden;word-break:normal;border-color:black;}\n",
    ".tg .tg-0pky{border-color:inherit;text-align:left;vertical-align:top}\n",
    ".tg .tg-0lax{text-align:left;vertical-align:top}\n",
    "</style>\n",
    "<table class=\"tg\">\n",
    "  <tr>\n",
    "    <th class=\"tg-0pky\">User</th>\n",
    "    <th class=\"tg-0lax\">Features</th>\n",
    "    <th class=\"tg-0lax\">MATRIX A</th>\n",
    "    <th class=\"tg-0lax\">Movie</th>\n",
    "    <th class=\"tg-0lax\">Features</th>\n",
    "    <th class=\"tg-0lax\">MATRIX B</th>\n",
    "    <th class=\"tg-0lax\">Total </th>\n",
    "  </tr>\n",
    "  <tr>\n",
    "    <td class=\"tg-0lax\">100</td>\n",
    "    <td class=\"tg-0lax\">10</td>\n",
    "    <td class=\"tg-0lax\">1000</td>\n",
    "    <td class=\"tg-0lax\">200</td>\n",
    "    <td class=\"tg-0lax\">10</td>\n",
    "    <td class=\"tg-0lax\">2000</td>\n",
    "    <td class=\"tg-0lax\">3000</td>\n",
    "  </tr>\n",
    "  <tr>\n",
    "    <td class=\"tg-0lax\">101</td>\n",
    "    <td class=\"tg-0lax\">10</td>\n",
    "    <td class=\"tg-0lax\">1010</td>\n",
    "    <td class=\"tg-0lax\">201</td>\n",
    "    <td class=\"tg-0lax\">10</td>\n",
    "    <td class=\"tg-0lax\">2010</td>\n",
    "    <td class=\"tg-0lax\">3020</td>\n",
    "  </tr>\n",
    "  <tr>\n",
    "    <td class=\"tg-0lax\">102</td>\n",
    "    <td class=\"tg-0lax\">10</td>\n",
    "    <td class=\"tg-0lax\">1020</td>\n",
    "    <td class=\"tg-0lax\">202</td>\n",
    "    <td class=\"tg-0lax\">10</td>\n",
    "    <td class=\"tg-0lax\">2020</td>\n",
    "    <td class=\"tg-0lax\">3040</td>\n",
    "  </tr>\n",
    "  <tr>\n",
    "    <td class=\"tg-0lax\">103</td>\n",
    "    <td class=\"tg-0lax\">10</td>\n",
    "    <td class=\"tg-0lax\">1030</td>\n",
    "    <td class=\"tg-0lax\">203</td>\n",
    "    <td class=\"tg-0lax\">10</td>\n",
    "    <td class=\"tg-0lax\">2030</td>\n",
    "    <td class=\"tg-0lax\">3060</td>\n",
    "  </tr>\n",
    "  <tr>\n",
    "    <td class=\"tg-0lax\">104</td>\n",
    "    <td class=\"tg-0lax\">10</td>\n",
    "    <td class=\"tg-0lax\">1040</td>\n",
    "    <td class=\"tg-0lax\">204</td>\n",
    "    <td class=\"tg-0lax\">10</td>\n",
    "    <td class=\"tg-0lax\">2040</td>\n",
    "    <td class=\"tg-0lax\">3080</td>\n",
    "  </tr>\n",
    "  <tr>\n",
    "    <td class=\"tg-0lax\">105</td>\n",
    "    <td class=\"tg-0lax\">10</td>\n",
    "    <td class=\"tg-0lax\">1050</td>\n",
    "    <td class=\"tg-0lax\">205</td>\n",
    "    <td class=\"tg-0lax\">10</td>\n",
    "    <td class=\"tg-0lax\">2050</td>\n",
    "    <td class=\"tg-0lax\">3100</td>\n",
    "  </tr>\n",
    "</table>"
   ]
  },
  {
   "cell_type": "markdown",
   "metadata": {},
   "source": [
    "> Example\n",
    "\n",
    "Let take an example of Movie M1 to M5 on few feature of Comedy and Horror, and give the feature score to these movie depending on the ratings given to these movies or any other criteria which is the heart of this problem, and very iterative process. \n"
   ]
  },
  {
   "cell_type": "markdown",
   "metadata": {},
   "source": [
    "![](Using_Feature_Matrix.png)"
   ]
  },
  {
   "cell_type": "markdown",
   "metadata": {},
   "source": [
    "Final Result : \n",
    "\n",
    "![](Result-Using_Feature_Matrix.png.png)"
   ]
  },
  {
   "cell_type": "markdown",
   "metadata": {},
   "source": [
    "Let check the result with actual result :\n",
    "\n",
    "\n",
    "\n",
    "![](UserFeatureMatrix.png)\n",
    "\n",
    "Then we check the Error : (3-1.8) ^2 + (2-1.3)^2 + (3-2.3)^2…… \n",
    "Get the derivative of Error. To adjust the User and Movie Feature matrix.  \n",
    "\n",
    "At the end this information can give some interesting result which can be used to predict the empty boxses of the matrix by the dot product of the these two marix and we don’t need build the big user-item matrix. \n"
   ]
  }
 ],
 "metadata": {
  "kernelspec": {
   "display_name": "Python 3",
   "language": "python",
   "name": "python3"
  },
  "language_info": {
   "codemirror_mode": {
    "name": "ipython",
    "version": 3
   },
   "file_extension": ".py",
   "mimetype": "text/x-python",
   "name": "python",
   "nbconvert_exporter": "python",
   "pygments_lexer": "ipython3",
   "version": "3.7.3"
  }
 },
 "nbformat": 4,
 "nbformat_minor": 2
}
