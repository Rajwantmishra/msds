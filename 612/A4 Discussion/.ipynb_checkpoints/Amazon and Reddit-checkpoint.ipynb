{
 "cells": [
  {
   "cell_type": "markdown",
   "metadata": {},
   "source": [
    "### Amazon and Reddit \n",
    "\n",
    "\n",
    "There are many types of discrimination occurs in the recommendation system, sometimes it's content and sometimes it's products or service. YouTube would only recommend you top rated or most view content irrespective of its relevance.\n",
    "\n",
    "I find Reddit doing a better job in order to combat such misuse. With Reddit where content is king and Freshness is the key, so scoring of Up score for fresh content and Old content is not treated equal and it's always derivative of time that decides if the Old upvoted content would go in the top or new content that came in Just now. In contrast, let's see Amazon's rating of the product, every product is not rated immediately after it gets shipped or sometimes never gets rated because you had no problem so you don't care.\n",
    "\n",
    "*How often you would buy an unrated product from Amazon ?* If I have an option to move to 4+ similar product I would not buy it, this is Bias created by Machine to us, in our buying pattern. Let's ask these questions to ourselves :\n",
    "\n",
    "<b>As A Buyer:</b>\n",
    "How often you would rate a product or Review it ?\n",
    "How positive your review would be if you have been paid for it ?\n",
    "\n",
    "<b>As  a prospective buyer:</b>\n",
    "How often are you going to read reviews? <br>\n",
    "How often are you going to see the average rating and number of total reviews, before buying it?\n",
    "\n",
    "<b>Concern:</b>\n",
    "If you are not rating or giving reviews to the products then who is? I don't like giving reviews, I might rate 3% of my shopping on Amazon, 3 only in 100 purchase I made. In turn, I am also looking at the rating and making my buying decisions.\n",
    "\n",
    "<b>Fact Check:</b>\n",
    "From Amazon, the rating shown against the product is the average rating of all the rating given to the products, why Amazon is ignoring the purchases made even though they were not rated or reviewed.\n",
    "\n",
    "I would suggest following the Black and White rule, treat every purchase as 5-star rating unless it is revised by Buyer. This way we would be able to rate five consistently for  the average rating including all the purchases made on the product.\n",
    "\n"
   ]
  },
  {
   "cell_type": "code",
   "execution_count": null,
   "metadata": {},
   "outputs": [],
   "source": []
  }
 ],
 "metadata": {
  "kernelspec": {
   "display_name": "Python 3",
   "language": "python",
   "name": "python3"
  },
  "language_info": {
   "codemirror_mode": {
    "name": "ipython",
    "version": 3
   },
   "file_extension": ".py",
   "mimetype": "text/x-python",
   "name": "python",
   "nbconvert_exporter": "python",
   "pygments_lexer": "ipython3",
   "version": "3.7.3"
  }
 },
 "nbformat": 4,
 "nbformat_minor": 2
}
