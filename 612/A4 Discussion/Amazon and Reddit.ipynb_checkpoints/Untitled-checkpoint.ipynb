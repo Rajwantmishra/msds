{
 "cells": [
  {
   "cell_type": "markdown",
   "metadata": {},
   "source": [
    "### Amazon and Reddit \n",
    "\n",
    "\n",
    "There are many type of discrimination occurs in the recommendation system, sometime its content and sometime it's products or service. YouTube would only recommend you top rated or most view content irrespective  of its relevance. \n",
    "\n",
    "I find Reddit doing better job in order to combating such misuse. With Reddit where content is king and Freshness is the key, so scoring of Up score for fresh content and Old content is not treat equal and its always derivative of time that decide if the Old upvoted content would go in top or new content that came in Just now. \n",
    "In contrast, let's see Amazon's rating of product, every product is not rated immediately  after it gets shipped or some time never gets rated because you had no problem so you don't care. \n",
    "\n",
    "*How often you would buy unrated product from Amazon ?* If I have an option to move to 4+ similar product I would not buy it , this is Bias created by Machine to us, in our buying pattern. Let's ask these questions to ourselves :\n",
    "\n",
    "<b>As A Buyer:</b>\n",
    "How often you would rate a product or Review it ?\n",
    "How positive your review would be if you have been paid for it ?\n",
    "\n",
    "<b>As  a prospective buyer:</b>\n",
    "How often are you going to read reviews ?\n",
    "How often are you going to see average rating and number of total reviews , before buying it ?\n",
    "\n",
    "<b>Concern:</b>\n",
    "If you are not rating or giving reviews to the products then who is ? I don't like giving reviews , I might rate 3% of my shopping on amazon, 3 only in 100 purchase I made. In turn I am also looking at these rating and making my buying decisions. \n",
    "\n",
    "<b>Fact Check:</b>\n",
    "From Amazon, the rating shown against the product is average rating of all the rating given to the products, why Amazon is ignoring the purchases made even though they were not rated or reviewed. \n",
    "\n",
    "I would suggest to follow Black and White rule, treat every purchase as 5 start  rating unless it is revised by Buyer. This way we would be able to  five consistent rating average including all the purchases made on the product . \n"
   ]
  },
  {
   "cell_type": "code",
   "execution_count": null,
   "metadata": {},
   "outputs": [],
   "source": []
  }
 ],
 "metadata": {
  "kernelspec": {
   "display_name": "Python 3",
   "language": "python",
   "name": "python3"
  },
  "language_info": {
   "codemirror_mode": {
    "name": "ipython",
    "version": 3
   },
   "file_extension": ".py",
   "mimetype": "text/x-python",
   "name": "python",
   "nbconvert_exporter": "python",
   "pygments_lexer": "ipython3",
   "version": "3.7.3"
  }
 },
 "nbformat": 4,
 "nbformat_minor": 2
}
