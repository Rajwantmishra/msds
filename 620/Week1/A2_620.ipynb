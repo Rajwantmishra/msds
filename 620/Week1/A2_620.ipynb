
{
 "cells": [
  {
   "cell_type": "markdown",
   "metadata": {},
   "source": [
    "#### Class: 620\n",
    "#### Assignment: “hello, graph world”\n",
    "#### Name : Rajwant Mishra"
   ]
  },
  {
   "cell_type": "markdown",
   "metadata": {},
   "source": [
    "> In this assignment, you’re asked to create the nodes and edges for a basic graph, such as the Krackhardt kite shown below. (You’re welcome to substitute data of your own choosing)."
   "HTML('<iframe width="560" height="315" src="https://www.youtube.com/embed/yhZ9nVtCO5g" frameborder="0" allow="accelerometer; autoplay; encrypted-media; gyroscope; picture-in-picture" allowfullscreen></iframe>')"
   ]
  },
  {
   "cell_type": "markdown",
   "metadata": {},
   "source": [
    "We will use NetworkX to create the netwrok and \n",
    "Matplotlib's pyplot to plot the graph.\n",
    "\n",
    "Packages Used:\n",
    "+ import networkx as nx\n",
    "+ import matplotlib.pyplot as plt\n",
    "\n",
    "'%matplotlib inline' is used to draw the graph inline in the notbook.\n",
    "\n",
    "Graph can be used represent netwrok, Nodes and edges are an imporant entity of this, Nodes represent All the acters or indviduals in the nwtork, where as edges represents the connection and direction among the individual.\n"
   ]
  },
  {
   "cell_type": "markdown",
   "metadata": {},
   "source": [
    "From package netwrkx method add_node() is used to add the node , also we can user add_nodes_from() to add nodes from the list of nodes.\n",
    "\n"
   ]
  },
  {
   "cell_type": "code",
   "execution_count": 16,
   "metadata": {},
   "outputs": [],
   "source": [
    "import networkx as nx\n",
    "import matplotlib.pyplot as plt\n",
    "%matplotlib inline\n",
    "\n",
    "# initialising the Graph \n",
    "G = nx.Graph()\n"
   ]
  },
  {
   "cell_type": "markdown",
   "metadata": {},
   "source": [
    "We will get the edge info from krackhardt_kite_graph"
   ]
  },
  {
   "cell_type": "code",
   "execution_count": null,
   "metadata": {},
   "outputs": [],
   "source": [
    "g = nx.generators.small.krackhardt_kite_graph()"
   ]
  },
  {
   "cell_type": "code",
   "execution_count": 19,
   "metadata": {},
   "outputs": [
    {
     "name": "stdout",
     "output_type": "stream",
     "text": [
      "Nodes from krackhardt_kite_graph:  \n",
      " [0, 1, 2, 3, 4, 5, 6, 7, 8, 9] \n",
      "\n",
      "Edges  from krackhardt_kite_graph:  \n",
      " [(0, 1), (0, 2), (0, 3), (0, 5), (1, 3), (1, 4), (1, 6), (2, 3), (2, 5), (3, 4), (3, 5), (3, 6), (4, 6), (5, 6), (5, 7), (6, 7), (7, 8), (8, 9)]\n"
     ]
    }
   ],
   "source": [
    "print(\"Nodes from krackhardt_kite_graph: \",\"\\n\",g.nodes(),\"\\n\")\n",
    "\n",
    "print(\"Edges  from krackhardt_kite_graph: \",\"\\n\", g.edges())"
   ]
  },
  {
   "cell_type": "markdown",
   "metadata": {},
   "source": [
    "Number of Edges in this netwrok:"
   ]
  },
  {
   "cell_type": "code",
   "execution_count": 20,
   "metadata": {},
   "outputs": [
    {
     "data": {
      "text/plain": [
       "18"
      ]
     },
     "execution_count": 20,
     "metadata": {},
     "output_type": "execute_result"
    }
   ],
   "source": [
    "g.number_of_edges()"
   ]
  },
  {
   "cell_type": "markdown",
   "metadata": {},
   "source": [
    "Number of Nodes in this network:"
   ]
  },
  {
   "cell_type": "code",
   "execution_count": 21,
   "metadata": {},
   "outputs": [
    {
     "data": {
      "text/plain": [
       "10"
      ]
     },
     "execution_count": 21,
     "metadata": {},
     "output_type": "execute_result"
    }
   ],
   "source": [
    "g.number_of_nodes()"
   ]
  },
  {
   "cell_type": "markdown",
   "metadata": {},
   "source": [
    "Drawing the network now with the given info :\n",
    "Note that label is present on the nodes is just a number which we have in edges. \n",
    "<br>\n",
    "nx: is alias for networkx pacakge that we have imported on the otp, and draw is used to draw the netwrok. \n",
    "<br>\n",
    "plt: (alias for matplotlib.pyplot ) to show the graph inline in notebook."
   ]
  },
  {
   "cell_type": "code",
   "execution_count": 23,
   "metadata": {},
   "outputs": [
    {
     "data": {
      "image/png": "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\n",
      "text/plain": [
       "<Figure size 432x288 with 1 Axes>"
      ]
     },
     "metadata": {},
     "output_type": "display_data"
    }
   ],
   "source": [
    "nx.draw(g, with_labels=1)\n",
    "plt.show()"
   ]
  },
  {
   "cell_type": "markdown",
   "metadata": {},
   "source": [
    "Lets add name to nodes and try to show them in netwrok. <br>\n",
    "I will craete an object to hold all the nodes and its name , which we will apply to the nwtwork while drawing it."
   ]
  },
  {
   "cell_type": "code",
   "execution_count": 25,
   "metadata": {},
   "outputs": [
    {
     "data": {
      "text/plain": [
       "{2: 'Carol',\n",
       " 5: 'Fernando',\n",
       " 7: 'Heather',\n",
       " 8: 'Ike',\n",
       " 9: 'Jane',\n",
       " 6: 'Garth',\n",
       " 4: 'Ed',\n",
       " 1: 'Beverly',\n",
       " 3: 'Diane',\n",
       " 0: 'Andre'}"
      ]
     },
     "execution_count": 25,
     "metadata": {},
     "output_type": "execute_result"
    }
   ],
   "source": [
    "person = {2:\"Carol\",5:\"Fernando\",7:\"Heather\",8:\"Ike\",9:\"Jane\",6:\"Garth\",4:\"Ed\",1:\"Beverly\",3:\"Diane\"\n",
    "         ,0:\"Andre\"}\n",
    "person"
   ]
  },
  {
   "cell_type": "code",
   "execution_count": 31,
   "metadata": {},
   "outputs": [
    {
     "name": "stdout",
     "output_type": "stream",
     "text": [
      " Edge for Named network: \n",
      " [(0, 1), (0, 2), (0, 3), (0, 5), (1, 3), (1, 4), (1, 6), (2, 3), (2, 5), (3, 4), (3, 5), (3, 6), (5, 6), (5, 7), (4, 6), (6, 7), (7, 8), (8, 9)]\n"
     ]
    }
   ],
   "source": [
    "# createing the Graph object\n",
    "G1 =nx.Graph()\n",
    "# create Edges from othe Graph and mannualy \n",
    "# option 1 \n",
    "e1 = [(0, 1), (0, 2), (0, 3), (0, 5), (1, 3), (1, 4), (1, 6), (2, 3), (2, 5), \n",
    "      (3, 4), (3, 5), (3, 6), (4, 6), (5, 6), (5, 7), (6, 7), (7, 8), (8, 9)]\n",
    "\n",
    "# option 2\n",
    "e1 = g.edges()\n",
    "\n",
    "# Add all the Edges to the Graph object \n",
    "G1.add_edges_from(e1)\n",
    "\n",
    "print(\"Edges for Named network:\", \"\\n\" ,G1.edges())\n"
   ]
  },
  {
   "cell_type": "markdown",
   "metadata": {},
   "source": [
    "We will use relabel_nodes method and pass the Graph object with name object, in this case `G1` graph object `person` name object. "
   ]
  },
  {
   "cell_type": "code",
   "execution_count": 42,
   "metadata": {},
   "outputs": [
    {
     "name": "stdout",
     "output_type": "stream",
     "text": [
      "--------------------------------------------------------------\n",
      "\n",
      " Nodes for Named network:  \n",
      " ['Andre', 'Beverly', 'Carol', 'Diane', 'Fernando', 'Ed', 'Garth', 'Heather', 'Ike', 'Jane']\n",
      "--------------------------------------------------------------\n",
      "\n",
      " Edges for Named network:  \n",
      " [('Andre', 'Beverly'), ('Andre', 'Carol'), ('Andre', 'Diane'), ('Andre', 'Fernando'), ('Beverly', 'Diane'), ('Beverly', 'Ed'), ('Beverly', 'Garth'), ('Carol', 'Diane'), ('Carol', 'Fernando'), ('Diane', 'Ed'), ('Diane', 'Fernando'), ('Diane', 'Garth'), ('Fernando', 'Garth'), ('Fernando', 'Heather'), ('Ed', 'Garth'), ('Garth', 'Heather'), ('Heather', 'Ike'), ('Ike', 'Jane')]\n",
      "--------------------------------------------------------------\n",
      "\n"
     ]
    }
   ],
   "source": [
    "H=nx.relabel_nodes(G1,person)\n",
    "print(\"--------------------------------------------------------------\\n\")\n",
    "print(\" Nodes for Named network: \", \"\\n\",H.nodes())\n",
    "print(\"--------------------------------------------------------------\\n\")\n",
    "print(\" Edges for Named network: \", \"\\n\",H.edges())\n",
    "print(\"--------------------------------------------------------------\\n\")"
   ]
  },
  {
   "cell_type": "code",
   "execution_count": 46,
   "metadata": {},
   "outputs": [
    {
     "data": {
      "image/png": "iVBORw0KGgoAAAANSUhEUgAAAd0AAAE/CAYAAAADsRnnAAAABHNCSVQICAgIfAhkiAAAAAlwSFlzAAALEgAACxIB0t1+/AAAADl0RVh0U29mdHdhcmUAbWF0cGxvdGxpYiB2ZXJzaW9uIDMuMC4zLCBodHRwOi8vbWF0cGxvdGxpYi5vcmcvnQurowAAIABJREFUeJzs3Xdc1dUfx/HXFZXhABTUFANzpKmUA0TJNEXNLSrmFkcqWTl+aFmmWeYoUrMMXIiakzRcONJCc0NuHJgDzW0iimzu+f1xhcAN3su9wOf5ePDI+73f8blU9+055/s9R6OUUgghhBDC4AoZuwAhhBCioJDQFUIIIXKJhK4QQgiRSyR0hRBCiFwioSuEEELkEgldIYQQIpdI6AohhBC5REJXCCGEyCUSukIIIUQukdAVQgghcomErhBCCJFLJHSFEEKIXCKhK4QQQuQSCV0hhBAil0joCiGEELmksLELEEIIIQzmxg0ICoKjRyE2FqytwdkZ+vcHe/tcL0cji9gLIYTId8LDYcoU2LRJ9zox8b/3LC1BKWjdGsaOBReXXCtLQlcIIUT+4u8Pvr6QkKAL1yfRaHQB7OcHPj65Upp0LwshhMg/0gM3Pv7Z+yql28/XV/c6F4JXbqQSQgiRJzVt2pT58+f/tyE8/PkDN7P04I2I0G+BjyGhK4QQIn+YMkXXpZwTCQm64w1MQlcIIUSeFhMTQ7sWLbD/9VdslaId8E+m95sCnwPuQAmgJXAr0/v7gEZKYbNmDa/XrElYWJjBapXQFUIIkadptVr6lytHtLk5FwFL4IOH9lkGLARuAMmA34Ptl4G2wDjgtoUFfo0a0aVLF27evGmQWiV0hRBC5GmlS5emi1JYJSVRAvgM2PHQPv2BaugCuRtw+MH2n4E2D34KJSbSIimJ+vXrExoaapBa5e5lIYQQeVp8fDwj//yTzUDMg233gDTA7MHrcpn2twLiHvw5GggG1qe/uXw5KUWL8vbbbxukVgldIYQQedp3333H6cRE9qML18NAHeB5JqGoCPQB5qVv6NEDFi82SJ0g3ctCCCHyuHv37mFpY4ONuTm3gYnZOLY3ulbuFiDNwoLE6tUJCwvjn3/+ecaROSOhK4QQIs/SaDSMGDGCBDs77JKScAPeycbxFYG1wGTAPjGRitOn8+2336LVag1Tr0wDKYQQIi+qW7cu48ePp1OnTroNnTujQkLQ5CTWNBrw9ITVq/Vb5EOkpSuEECLPiYyM5OTJk9SpUydjW1SXLuRwagzdHMxjx+qltqeR0BVCCJGnfPzxx7Rs2ZJp06bh6OgIwG+//cabI0dyYsAAsLLK3gmtrHSLHtSvb4Bqs5LuZSGEEHlaUFAQH3/8Mb/88guNGzc26VWGJHSFEELkSUopvvrqKxYuXEhoaCg1atT4782ICN1cyqGhunDNPCdz+nq6bdroupRzoYWbTkJXCCFEnpOSkoKPjw+HDx9mw4YNlCtX7vE73rwJQUFw7BjExICtLdSuDd7eYG+fmyUDErpCCCHymHv37tGtWzcKFSrEypUrKV68uLFLem5yI5UQQog84+rVqzRp0oSKFSuydu3aPBW4IKErhBAijzh58iSNHqwCNGfOHAoXznszGee9ioUQQhQ4O3fuxMvLCz8/P/r06WPscnJMQlcIIYRJW7lyJR9++CHLli3Dw8PD2OW8EAldIYQQJkkpxXfffcesWbPYtm0bzs7Oxi7phUnoCiGEMDlpaWmMGDGCsLAw9uzZg4ODg7FL0gsJXSGEECYlPj6enj17cu/ePXbt2oW1tbWxS9IbuXtZCCGEybh58ybNmjWjRIkSbNq0KV8FLkjoCiGEMBF///03jRo1wsPDg8WLF1O0aFFjl6R3ErpCCCGMbt++fTRu3JjRo0czadIkNBqNsUsyCBnTFUIIYVRr167lvffeIygoiDZt2hi7HIOS0BVCCGE0s2fP5uuvvyY0NJT6ubjaj7FI6AohhMh1Wq2WTz75hHXr1rF7924qVapk7JJyhYSuEEKIXJWUlIS3tzeXLl1i9+7dlC5d2tgl5Rq5kUoIIUSuiYmJoWXLlqSmprJt27YCFbggoSuEECKXREdH4+7uTr169Vi5ciUWFhbGLinXSegKIYQwuIMHD+Lu7s6QIUOYPn06hQoVzPiRMV0hhBAGtXnzZvr06UNAQABdunQxdjlGVTD/qiGEECJXLFiwAG9vb9auXVvgAxekpSuEEMIAlFJ88cUX/Pzzz+zcuZNq1aoZuySTIKErhBBCr1JSUhg8eDCRkZHs3buXMmXKGLskkyGhK4QQQm/u3r1L165dsbCw4I8//qBYsWLGLsmkyJiuEEIIvbh8+TJvvfUWVapUYc2aNRK4jyGhK4QQ4oVFRkbSqFEjunfvzuzZsylcWDpSH0d+K0IIIV7IH3/8Qffu3ZkxYwY9e/Y0djkmTVq6QgghcmzZsmV0796dFStWSOA+B2npCiGEyDalFNOmTcPf35/t27dTq1YtY5eUJ0joCiGEyJbU1FQ+/PBD9uzZw549e6hQoYKxS8ozJHSFEEI8t/v379O9e3eSkpL4888/KVmypLFLylNkTFcIIcRzuX79Om+//TalS5dm48aNErg5IKErhBDimaKiomjUqBGtW7dm4cKFFClSxNgl5UnSvSyEEOKp9uzZQ+fOnfn6668ZOHCgscvJ0yR0hRBCPNGaNWsYOnQoixcv5p133jF2OXmehK4QQojH+v777/n222/ZsmULderUMXY5+YKErhBCiCy0Wi2+vr5s3ryZ3bt34+joaOyS8g0JXSGEEBkSExPp27cv169fZ/fu3dja2hq7pHxFQlcIIfK7GzcgKAiOHoXYWLC2Bmdn6N8f7O0zdrt9+zYdO3akQoUKbN26FXNzc+PVnE9plFLK2EUIIYQwgPBwmDIFNm3SvU5M/O89S0tQClq3hrFjOW9nR+vWrenQoQNTp06lUCF5otQQJHSFECI/8vcHX19ISNCF65NoNKSZm/Np0aK8PHkyw4YNy70aCyDpXhZCiPzG35+gESOYn5zMrmftqxRmiYl8rRSFpXVrcNLSFUKIfMSpfHnm377NP0lJzIdnh25mVlawYwfUr2+g6oT8tUYIIfKT2FhISsrZsQkJujFgYTASukIIkV/cuAHx8Y99azTwJhD74HUgUAOwBVoB0aAb+w0NhZs3DV9rASWhK4QQ+UVQ0CObtMB7wFFgK2ANhACTgTXATaAx0CP9AI3msecR+iGhK4QQ+cXRo1lepqAL09vAesDqwfY5wFh0Ld3CwKfAYR60dhMS4Nix3Km3AJK7l4UQIr+Ijc3y8m/gCHAAKJppezQwHPhfpm0KuAw4AsTEGLLKAk1aukIIkV9YW2d5WQNYCLQGTmfaXhFda/dOpp8EoFH6DjL1o8FI6AohRH7h7PzIph7oxm89gLMPtg0FpgCRD17HAsHpB1haQu3aBi2zIJPQFUKI/MLb+7Gb+wHjgWbABcAT+BjoDpQEagGb0ndW6onnES9OJscQQoh85JKLC+UjIjDLycEaDXh6wurV+i5LPCAtXSGEyAdSUlIYMWIEH129isbCImcnsbSEsWP1W5jIQkJXCCHyuGvXrtG8eXPOnDlD4LFjFJo+XTelY3ZYWYGfn0wBaWASukIIkYft3buX+vXr07x5c9avX69bdN7HRxegVla6LuOn0Wj+C1wfn9wpugCTMV0hhMiDlFIEBAQwYcIEAgMDadeu3aM7RUTo5lIODdWFa0LCf++lr6fbpo2uS1lauLlCQlcIIfKYhIQEfHx8OHjwIGvWrKFKlSpPP+DmTd3UjseO6Sa+sLXVPRbk7Q329rlRsnhAQlcIIfKQCxcu0LlzZ1599VXmz59PsWLFjF2SyAYZ0xVCiDxi69atuLm50bdvX5YtWyaBmwfJ3MtCCGHilFJMnTqVH374gZUrV9KkSRNjlyRySEJXCCFM2N27d/H29ubq1ascOHAABwcHY5ckXoB0LwshhIk6efIkrq6ulC1blrCwMAncfEBCVwghTNDq1atp0qQJH3/8Mf7+/pibmxu7JKEH0r0shBAmJDU1lXHjxrFixQo2bdpEvXr1jF2S0CMJXSGEMBG3bt2ie/fuaDQaIiIisLOzM3ZJQs+ke1kIIUxAREQE9evXx8XFhc2bN0vg5lPS0hVCCCMLDAzkk08+ISAggM6dOxu7HGFAErpCCGEkSUlJDB8+nB07drBjxw5q1Khh7JKEgUnoCiGEEfzzzz907dqV8uXLs3//fkqWLGnskkQukDFdIYTIZWFhYbi6uuLp6cnq1aslcAsQaekKIUQuUUoxc+ZMpk2bxpIlS2jRooWxSxK5TEJXCCFywf379xk4cCBnzpxh//79ODo6GrskYQTSvSyEEAZ25swZ3NzcsLS0ZNeuXRK4BZiErhBCGNCGDRtwd3dn2LBhBAYGYmlpaeyShBFJ97IQQhiAVqtl4sSJBAYGsnbtWho2bGjskoQJkNAVQgg9i4mJoXfv3sTFxREeHk65cuWMXZIwEdK9LIQQenT06FFcXFyoVq0a27Ztk8AVWUjoCiGEnixbtozmzZvz1VdfMWPGDIoUKWLskoSJke5lIYR4QSkpKYwePZoNGzawfft2nJ2djV2SMFESukII8QKuXbtGt27dKFGiBOHh4dja2hq7JGHCpHtZCCFyaO/evdSvX5/mzZuzfv16CVzxTNLSFUKIbFJKERAQwIQJEwgMDKRdu3bGLknkERK6QgiRDQkJCfj4+HDw4EH27NlDlSpVjF2SyEOke1kIIZ7ThQsXcHd3Jzk5mb1790rgimyT0BVCiOewdetW3Nzc6Nu3L0uXLqVYsWLGLknkQdK9LIQQT6GUYurUqfzwww+sXLmSJk2aGLskkYdJ6AohxBPcvXuXfv36ce3aNcLDw6lQoYKxSxJ5nHQvCyHEY5w4cQJXV1fKlStHWFiYBK7QCwldIYR4yOrVq2nSpAkff/wx/v7+mJubG7skkU9I97IQQjyQmprKZ599xsqVK9m8eTP16tUzdkkin5HQFUII4NatW3Tv3h2NRkNERAR2dnbGLknkQ9K9LIQo8CIiIqhfvz4uLi5s3rxZAlcYjLR0hRAFWmBgIJ988gkBAQF07tzZ2OWIfE5CVwhRICUlJTF8+HB27NjBjh07qFGjhrFLEgWAhK4QosD5559/6Nq1K+XLl2f//v2ULFnS2CWJAkLGdIUQBUpYWBiurq54enqyevVqCVyRq6SlK4QoEJRSzJw5k2nTprFkyRJatGhh7JJEASShK4TI9+7fv8/AgQM5c+YM+/fvx9HR0dgliQJKupeFEPnamTNncHNzw9LSkl27dkngCqOS0BVC5FsbNmzA3d2dYcOGERgYiKWlpbFLEgWcdC8LIfIdrVbLxIkTCQwMZN26dbi5uRm7JCEACV0hRD4TExND7969iYuLIyIigrJlyxq7JCEySPeyECLfOHLkCPXr16datWps27ZNAleYHAldIUS+sHTpUjw8PJg0aRIzZsygSJEixi5JiEdI97IQIk9LSUlh9OjRbNiwge3bt+Ps7GzskoR4IgldIUSede3aNbp160aJEiUIDw/H1tbW2CUJ8VTSvSyEyJP27t1L/fr1ad68OevXr5fAFXmCtHSFEMZ34wYEBcHRoxAbC9bW4OwM/fuDvX2WXZVSBAQEMGHCBAIDA2nXrp1xahYiBzRKKWXsIoQQBVR4OEyZAps26V4nJv73nqUlKAWtW8PYseDiQkJCAj4+Phw8eJA1a9ZQpUoV49QtRA5J6AohjMPfH3x9ISFBF65PotGApSW3xo6l5Zo1VK9enXnz5lGsWLHcq1UIPZHQFULkvvTAjY9/5q5hQG8gCtjbtSvNVq1Co9EYuEAhDENupBJCZJuTkxPbtm3Lsi0oKIg333zz2QeHhz81cDXA34/ZbgU0Dw1F89df2a5XCFMhoSuEyF1Tpui6lHMiIUF3fA6lpqbm+Fgh9EFCVwihd1euXKFLly7Y29tTqVIlZs2apXvjxg0ObNxIQ6WwAV4CPgCSHxz31oN/vg4UB1ZmOud3QBmleGnNGhamnw9ISkrC19eXl19+mbJlyzJ06FASHoR6WFgYDg4OTJs2jXLlytG/f38Dfmohnk1CVwihV1qtlvbt2/P6669z+fJltm/fzsyZM9myZQsEBWEGzABuAXuB7cBPD47d+eCfR4A44N0Hr68BscBlYEHRogzz9SUmJgaAjz/+mKioKA4fPszff//N5cuX+fLLLzPquXbtGrdv3yY6Opq5c+ca+NML8XRyI5UQItucnJy4desWhQv/96h/cnIydevW5bvvvsPLy4uLFy9mvDdlyhSioqJYmJICS5dmOddMYAfw64PXGuAMkP4wUBjQGrjHfxMLlDE3Z11YGA0aNKB48eIcPXqUypUrA7pJM3r27Mn58+cJCwujZcuW3L17FwsLCz3/FoTIPpkcQwiRIyEhIXh4eGS8DgoKYv78+URHR3PlyhVsbGwy3ktLS6Nx48ZgZkYUMAqIAOKBVKDeM65VmqxfVlaFChEXF8fNmzeJj4+nXr3/zqCUIi0tLeO1vb29BK4wGRK6Qgi9qlixIpUqVeLMmTOPvKd698YHqAMsB0qga+n+kt2LFNKNjNnZ2WFpaUlkZCQVKlR47K7yeJEwJTKmK4TQK1dXV0qWLMm0adNISEggNTWVX375hf79+/Pt5s3EAiXR3Sh1CvB/6PiywLmnXcDSEooWBaBQoUK89957jBw5khs3bgBw+fJl3fixECZIQlcIoVdmZmasW7eOsLAw7O3tMTc3p1evXty/f58WS5fyXdGiLEPXyn2P/26WSvcF0A+wAVY97gJKQfHiGS+nTZtGlSpVcHNzo2TJknh4eHD69GmDfDYhXpTcSCWE0AulFEePHiU4OJhVq1aRkpKCl5cXXl5e1K9f/79u3s6dISTk6VM/PolGA56esHq1fosXIpdI6Aohcixz0AYHB5OUlES3bt0eDdrMwsOhadPnmgLyEVZWsGMH1K//wrULYQwSukKIbFFKcezYMVatWpURtF5eXnTr1u3JQfswf3+Ury+a7ASvlRX4+YGPT86LF8LIJHSFEM/0pKD18vLCxcUlR3cIb/fywn3NGsyVQvMcqwxJ4Ir8QEJXCPFY6UGbPkarj6BNd/XqVWrXrk1EQABOy5dDaKguXDPPyZy+nm6bNrr1dKVLWeQDErpCiAyZgzY4OJiEhISMMdoXDdrMevfuTcWKFZmSvnjBzZsQFATHjkFMDNjaQu3a4O0N9vZ6uaYQpkBCV4gCTinF8ePHM7qOExISMsZo9Rm06cLCwujXrx8nTpyQhehFgSMzUglRAKUHbXrXcXrQLlq0CFdXV4PN4pSSksKwYcOYMWOGBK4okCR0hSggjBW0mc2aNYuKFSvi6elp8GsJYYqke1mIfCxz0AYHBxMfH59xM1RuBW26y5cv8/rrr7N3716qVq2aa9cVwpRI6AqRzyiliIyMzBijvX//fsYYbW4HbWbdu3enatWqfPXVV0a5vhCmQEJXiHwgPWjTu47Tg9bLy4sGDRoYfaWd7du3M2jQICIjI7GysjJqLUIYk4zpCpFHZQ7a4OBg4uLi8PLyYuHChbi6ulKokGmsZ5KcnMwHH3zA999/L4ErCjwJXSHymMxdx3FxcXTt2pXAwECTCtrMZsyYQeXKlWnfvr2xSxHC6KR7WYg84HFBmz5Ga4pBm+7SpUvUqVOH/fv3U7lyZWOXI4TRSegKYaIyj9Heu3cvyxitKQdtZl27dqV27dpMmDDB2KUIYRKke1kIE5J5jPbu3bt4eXmxYMGCPBW06bZs2cKhQ4dYsmSJsUsRwmRIS1cII3s4aNO7jvNi0KZLSkqidu3azJgxg7Zt2xq7HCFMhrR0hTCCEydOZIzRpgft/Pnz83TQZubn58drr70mgSvEQ6SlK0QuOXHiRMYYbXrQenl54ebmli+CNt2FCxeoX78+ERERODk5GbscIUyKhK4QBpQetMHBwdy5cyfjZqj8FrSZeXp6Uq9ePcaNG2fsUoQwOdK9LISePRy0Xbt2Ze7cufk6aNOFhoYSGRnJihUrjF2KECZJWrpC6MHJkyczxmjTg9bLy4uGDRvm+6BNl5iYSK1atfjxxx955513jF2OECZJWrpC5NDJkyczxmjTg3bOnDkFKmgz++abb3j99dclcIV4CmnpCpEN6UEbHBzM7du3M8ZoC2rQpjt37hyurq4cPHiQl19+2djlCGGyJHSFeIZTp05ldB3fvn074znagh60mbVv3x53d3c++eQTY5cihEmT7mUhHuPUqVMZXcfpQevv70+jRo0kaB+yfv16zpw5w+rVq41dihAmT1q6QjzwuKD18vKSoH2KhIQEatasydy5c/Hw8DB2OUKYPAldYdpu3ICgIDh6FGJjwdoanJ2hf3+wt3/h06cHbXBwMP/++68EbTaNHz+e06dPs3LlSmOXIkSeIKErTFN4OEyZAps26V4nJv73nqUlKAWtW8PYseDikq1Tnz59OmOM9tatWxljtBK02fP333/j5ubG4cOHcXBwMHY5QuQJErrC9Pj7g68vJCTowvVJNBpdAPv5gY/PU095+vTpjK7j9KD18vLC3d1dgjYHlFK0bduWZs2a4evra+xyhMgz5EYqYVrSAzc+/tn7KqXbL/1L/6HgfVzQmpmZ8cUXXzB48GADFF9whISEEB0dzfDhw41dihB5ioSuyDEnJyeuX7+OmZlZxraoqCjKly+fsxOGhz9/4GaWHrwuLpwuUSJjjPbmzZt07dqV2bNnZ7RomzZtKi3bF3T//n1GjBjBokWLKFKkiLHLESJPkdAVL2T9+vU5vmtVKYVS6r8QnDJF16WcA9qEBH5v3py+xYrRpUsXfvzxR+k6NpDJkyfz5ptv0rRpU2OXIkSeI99IQu/27dtHo0aNsLGx4fXXXycsLCzjvaZNm/LZZ5/h7u6OlZUV586do2nTpnw+ahTuISGUUIqWwK1M5/MCygHWwFtAZKb3vIFhQHul8Lx7F4dy5RgxYgSNGzemUKFC/Pbbb1SvXh1ra2s++OADMt/CoNVqmTRpEo6OjpQpU4a+ffsSGxtrsN9LfnD69GnmzJnDt99+a+xShMiTJHSFXl2+fJm2bdsybtw4bt++jZ+fH126dOHmzZsZ+yxZsoS5c+dy7949HB0dAVi2aBELixThBpAM+GU6Z2vgDHADqAv0euiay4EJQIyFBVWV4rPPPgPg1q1bdOnShUmTJnHr1i0qV67M7t27M44LCgoiKCiIP/74g3PnzhEXF8cHH3yg719JvqGU4sMPP+Szzz7L+RCCEAWchK54IZ06dcLGxgYbGxs6derEzz//TJs2bWjTpg2FChWiRYsW1K9fn9DQ0IxjvL29qVmzJoULF6Zw4cKkpqbSw96easnJWALdgMOZrjEAKAGYA18AR4DM7dHOgCtQODGRXqVKcfiw7ujQ0FBee+01unbtSpEiRRgxYgTlypXLOG7p0qWMGjWKV155heLFizNlyhRWrFhBamqqQX5Xed3q1au5du0aH374obFLESLPKrhjugaedKGgCAkJyTKm+/777xMcHMy6devQarUopUhJSaFQoUIcO3aMkydPcvPmTdavX8+NGze4efMmWq2WBpluxrIC4h78OQ34DAgGbvLf3xJvoetuBl3Xc8ax8fHExemOvnLlChUrVsx4T6PRZHl95cqVjJY2gKOjI6mpqVy/fp0KFSq82C8mn4mLi2PkyJEsW7aMwoUL7teGEC+q4P3f87RJF9asgQkTcjzpQn6l1WqJiYnh+vXr3LhxI+Pnzp07zJw5k9mzZ2dsu3TpEsnJydjZ2VG2bFnKlCmT5cfW1pYWLVrQt29fypQpg729Pa1ataJGYiLs3//ItZcBa4FtgBO6Fq4t8MSnd0uUyPjjSy+9xKVLlzJeK6WyvC5fvjzR0dEZry9evEjhwoUpW7Zszn9Z+dRXX33F22+/TePGjY1dihB5WsEK3WdNupB+52xICGzZ8lyTLuRVCQkJ3Lhx45EgTf/JvP3WrVuUKFGCMmXKZAlSgMqVK9OkSZOMbcnJyXh4eLBgwQI8PDxISUlh3759VKlSBQcHBzZu3EitWrWoW7du1oIcHFBHjqDJ/Jcg4B66buXSQDzw6VM+U2qRIqS+/DKcOAFA27Zt+eCDD1izZg0dOnRg9uzZXLt2LWP/Hj16MG3aNFq3bo29vT2ffvop7777rrTkHnLy5EkCAwM5fvy4sUsRIs8rON8uepx0AXR34fbu3ZtBgwbpudCcSUtL4/bt208M0oe3paSkZARl5iCtUKECderUybLNzs6OokWLPnLNjRs30r59+0ceGVq7di1jxoyhR48emJmZ4erqir+//xNrV0pxoEgReicmYvHQe32BLUAFoBTwFfCkM2nT0hiwahWxSnHq1CmqV69OcHAwH330Ef3796dPnz64u7tn7D9gwACuXLnCW2+9RWJiIq1ateKHH354jt92waGUYtiwYYwfP156AITQg3w3DeSyZcuYPn06p06dokSJErzxxht81rkzb44Ykf1JFwCsrGDHDqhfP8vm3Ajd+/fvP3dr9Pbt21hbWz8Sopl/Mm8vUaIEGo3GYLU/r23btuHr60uxYsVYV7gwpf/88+lTPz6JRgOenpz382PevHkEBgZSo0YNhg4diqen52P/0iCebcWKFUybNo3w8HDpARBCD/JV6E6fPp2pU6cSEBBAq1atKFq0KJs3b2bnqFF8e/bsc3+Zp5KpC+DBlzkPrRWak9BNTU3l33//fe4g1Wq1GUH5rCC1s7PLU1+Kx48fZ/To0Zw5c4Zp06bRuXNnNBER0LSpXv5ylJyczNq1awkICOD48eP079+fwYMH88orr+j3g+Rj9+7do0aNGqxatYpGjRoZuxwh8oV8E7qxsbFUqFCBhQsX4uXl9d8bN26AoyMHEhMZDpwELIEuwHQgvf2jAX4EZqIL3fPAHmA4EAVUe+MNvp89O+PLp2nTpvTq1Yvu3bs/sQv34e137tzB1tb2sS3PxwVpsWLFTKI1qk9Xr15l/PjxrF27lnHjxjF06NCsrdDsDAOks7J66vh7VFQUc+c3Nq+zAAAgAElEQVTOZdGiRdStW5ehQ4fSrl07mcLwGf73v/8RExNDYGCgsUsRIt/IN6G7efNm2rVrR2JiYtYW3zffwIQJ/JWYSApQH/gH3YQLQ4ARD3bTAB7ASnShnABUBmYBXc3MmFCtGt+fPUuTJk2IiYnh2LFjpKWlYW5u/sQu3Ie3lS5dOss8xQVJXFwcfn5+/PDDDwwcOJBPP/0UGxubx+9sgFWGABITE1m9ejUBAQGcO3eOgQMHMmjQIF5++eUcfqr86/jx4zRr1ozjx49n3DQnhNADlU/8/PPPqmzZso++0auXUrqv7iw/M0B1yvQaUNszvV4MyiXT66NvvKFeeeUVNXz4cLVv3z7VoEED9eOPP+b+B81jUlNT1bx589RLL72kevbsqc6fP/98B4aHK9W5s0o2M1PJhQtn/fdnaamUhYVSnTvr9suB48ePqw8//FCVKlVKtWvXTq1fv16lpqbm6Fz5jVarVW+99ZaaPXu2sUsRIt/JO4OAz1C6dGlu3bpFampq1pbug7l0o4BRQAS6R09SgXoPnaNipj9fARwzva7t4IBLsWLY29vToEEDLCwsMDc31/8HySeUUmzevJkxY8ZQqlQp1q5di0t2nnuuXx9Wr6b7W28xqUoVaqSmQkwM2NpC7drg7f1Ck5jUrFmTWbNmMXXqVFauXMlXX33FsGHDeO+99xg4cCAvvfRSjs+d1y1dupS4uDiGDBli7FKEyHfyTeg2bNgQCwsLQkJC6Nq1639vWOvmLfIB6qCbp7cEurHbXx46R+bR0/JAdOY3bW25+PffvPPOO3qvPb85fPgwo0eP5tKlS3zzzTe0b98+R2PTSin+OH6cUsHBYKDHVaysrOjfvz/9+/fn0KFDzJkzh9dee41mzZoxdOhQmjdvXqBWKoqNjWXMmDH8+uuvBXYoRAhDyjffJtbW1nz55ZcMGzaMkJAQ4uPjSUlJYVPRoowxM+MeUBIoDpziyc96pmuDrnW8DEgsUoRlKSmcOHGCdu3aGfaD5GH//PMP3t7evPPOO3h6enLs2DE6dOiQ45vBzp8/j5WVVa49H1qnTh0CAgK4ePEiLVu2ZMyYMVStWpVvvvkmy4IN+dmECRNo27YtDRo0MHYpQuRL+SZ0AUaNGsX06dOZNGkS9vb2VKxYkR8vXaKTmRl+6AK0BPAe8O4zzlUa2AB8B5RNSWFAcDAtW7bMMqOR0Ll79y7jxo3j9ddfp0KFCkRFRfH++++/8N3Bf/31F/XqPTwIYHglSpRgyJAhHDx4kOXLl3Pq1CmqVatGjx492LFjR5blAfOTI0eOsHz5cqZMmWLsUoTIt/LN3ctP1bmzbmrHF5h04dy337Jw4UIWLlyIg4MDAwcOpHv37pTINNdvQZOamsq8efOYOHEirVq1YtKkSVkWFHhRn3zyCVZWVowfP15v58ypO3fusGTJEgICAtBqtQwZMoS+fftSqlQpY5emF1qtlrfeeou+ffsyePBgY5cjRP5l1Nu4csuBA0pZWT32LuZn/lhZZblDNjU1VW3cuFF5enoqGxsb1b9/f7V7926l1WqN+AFzl1arVevWrVPVq1dXzZo1UwcPHjTIdTw8PNSGDRsMcu6c0mq16s8//1S9evVS1tbWqm/fvmrPnj15/t9/UFCQcnFxkTu4hTCwghG6Sin100/ZD14rK91xT3Dt2jX1zTffqGrVqqnq1asrPz8/df369Vz8ULkvIiJCNW3aVL322mtq48aNBgsbrVarbG1t1dWrVw1yfn24efOm8vPzU1WrVlW1a9dWs2fPVnfu3DF2Wdl2+/ZtVa5cORWew8evhBDPr+CErlL/Ba9G89Sw1Wo0zwzczNJbP/369VPW1taqS5cuKjQ0NF+1Gi5cuKB69eqlXnrpJTVnzhyVkpJi0OudO3dOlS9f3qDX0Je0tDS1fft25eXlpWxsbNSgQYNURESEsct6bsOGDVNDhw41dhlCFAgFK3SVyph0QVlY6CZZeGjShaRChVRU7do5nnThzp07KiAgQLm4uKiKFSuqzz///PknhDBBd+7cUR9//LEqVaqUGj9+vLp7926uXDc4OFi1b98+V66lT1evXlWTJ09WTk5Oql69emrevHnq3r17xi7rif766y9VtmxZ9e+//xq7FCEKhIJxI9Xj3LwJQUFw7FiWSReO1q1Lm379OHv27AtPfnH06FEWLFjA0qVLqVOnDoMGDaJTp055YlKN5ORk5syZw6RJk2jfvj1ffvkl5cuXz7Xrjx07FgsLCyZMmJBr19SntLQ0tm7dypw5c9i5cyc9evRgyJAhODs7G7u0DFqtlkaNGjF48GAGDBhg7HKEKBiMnfqmqGXLlmrevHl6O19CQoJavny5at68ubKzs1PDhw9XR48e1dv59Umr1ao1a9aoqlWrqlatWqkjR44YpY4WLVqo9evXG+Xa+nbp0iX1xRdfqAoVKqiGDRuqRYsWqfj4eGOXpebPn6/c3NxUWlqasUsRosCQ0H2MP/74Q1WtWtUgY7Jnz55V48aNUxUqVFCurq5q7ty5KjY2Vu/XyYl9+/Ypd3d35ezsrLZs2WK0OrRarSpVqpS6cuWK0WowhJSUFBUSEqJat26tSpcurUaMGKFOnjxplFr+/fdfVaZMGYPdeS6EeLx8NTmGvjRp0oTSpUuzZs0avZ/7lVde4auvviI6OpoJEyawadMmHB0dGTBgALt37zbKxAvnzp2je/fudOnShYEDB3Lw4EFatmyZ63Wki46OxtzcPN/Nf1y4cGE6duxIaGgoERERWFlZ8fbbb9O0aVNWrFhBUlJSrtXy6aef0q1bN+rUqZNr1xRCFJTJMXJg3bp1fPHFF/z1118GX9P2+vXrLF68mAULFqDRaBg4cCB9+/Y1+JJqt2/f5uuvvyYoKIgRI0YwatQoihUrZtBrPo/Vq1cTFBTE+vXrjV2KwSUnJ7Nu3ToCAgI4duwY3t7eDB48mMqVK7/YiW/c0N2zcPSobtEPa2twdob+/Qm/cIEOHTpw8uTJJy+vKIQwDCO3tE1WWlqaqlmzptq8eXOuXTP90SNvb29lbW2tOnfubJBHjxITE9V3332n7O3t1ZAhQ0zuWdixY8eqCRMmGLuMXBcVFaV8fX2Vvb29atGihVq9erVKTk7O3kkOHFDK01N3d76FxSN352stLNTvNjZq/fjxhvkQQoinktB9iiVLlqgmTZoY5dqxsbFqzpw5ysXFRTk4OKjPP/9cnTt37oXOqdVq1cqVK1WlSpVUu3btVGRkpJ6q1a+WLVuqdevWGbsMo0lISFBLly5VjRs3Vi+99JIaN26cio6OfvaBz/kceioobTaeQxdC6I+E7lOkpKQoJycntWfPHqPWceTIEfXRRx+p0qVLKw8PD7V8+XKVkJCQrXPs2rVLubm5qTp16qjt27cbqNIXp9VqVenSpdXly5eNXYpJOH78uProo49UqVKlVNu2bdX69esf3/OhhxnXFi5cqNzd3XPx0wlR8EjoPsPs2bNNZpKG9EePPDw8lJ2dnfroo4+e+ehRVFSU6ty5s6pYsaJavHixyT8ecuHCBVWuXDljl2Fy7t+/r4YOHaqKFSumNBqNKlasmKpTp46aPXu20u7fn+3APQ8KUCmWlhkTwUjoCmF4cvfyM/Tv358DBw5w/PhxY5eChYUF3bt357fffuPAgQNYW1vTunVrXF1dmTt3Lnfv3s3Y99atWwwfPpyGDRvi4uLC6dOn6dOnj8kvyG6s5fxMnb+/P2vWrCEoKIg///yT3r178/fffzNlyhQuDR+OSkh47nOlZn6RkACylJ8Quca0v4FNgKWlJcOHD2fatGnGLiWLSpUq8eWXXxIdHc0XX3zBli1bePnll+nbty/vv/8+1atXJy0tjZMnT/LJJ59gaWlp7JKfi4Tuo2JjYxk/fjw//fQTXbt2xd3dnYCAAC5fvszXw4dTdv9+QpWiDlASqAh8ken4C4AGWAC8DDQD3nrwng1QfM0a9oaGZuzv6+uLra0tlSpVYtOmTYb/gEIUIBK6z+H9998nNDSU8+fPG7uUR5iZmdGmTRuCg4OZMmUK69evZ8mSJZQsWRJHR0e0Wq2xS8wWCd1H7d27l6SkJDp27Jhle4kSJeir1VLU3JxiwGLgDrAR8AdCHjrPDuAksAXY+WDbHSDO0pKGkZEA7N+/n1dffZVbt24xZswYBg4caJRnx4XIryR0n4O1tTWDBw/Gz8/P2KU81o4dO2jQoAELFy5k7dq13L17lyVLlnDixAleffVVunTpQmhoKGlpacYu9amUUhK6j3Hr1i3s7OwoXLhwxrZGjRphY2OD5aef8mdiIk2B2uj+h3YGeqAL2cy+AIoBj/R5JCTo5iAHHB0dee+99zAzM6Nfv35cvXqV69evG+JjCVEgSeg+pxEjRrB8+XKT+gI6deoUHTt2xNvbm//973/s27ePt956C41Gg7u7OwsXLuTixYu0atWKiRMn4uTkxOeff26SLXaAS5cuYWZmlqsLK+QFpUuX5tatW6Sm/jcau2fPHu7cuUPpIkXQAvuBtwF7wBoIAG49dJ6KT7tITAwA5cqVy9hkZWUFQFxc3At/BiGEjoTucypbtiw9evRg5syZxi6FGzdu8P7779O4cWMaN27MyZMn6d69+2NvkipZsiSDBw9m//79hIaGcu/ePVxcXPDw8GDFihUkJiYa4RM8Xnor19AzgOU1DRs2xNzcnLVr15KQkMDBgwdZvHgxY8aMISk5GYCeQAfgEhALDEV3e3Jmmif8GdCtsiWEMDgJ3WwYPXo0c+fOJTY21ijXj4+PZ/Lkybz22muYm5tz6tQpfH19sbCweK7ja9euzcyZM/nnn38YNGgQCxYswMHBgeHDh3P06FEDV/9s0rX8n5SUFE6cOMGqVauYPn06lSpV4t1338Xa2po+ffqwadMm4uPjSS5cGG2RItwDSgEWwAFg2TPOb4/uf/5zAJaWULu2QT+PEEJHQjcbnJycaNOmDT/99FOuXler1bJo0SJeffVVDh06xL59+5gxYwalS5fO0fkyP3oUHh6OtbU1bdu2xdXVlTlz5mR59Cg3FcTQ1Wq1nDt3jnXr1jF58mR69uyJs7MzJUuWpFOnTqxYsQKA8ePHM3nyZF5//XXOnz/Ptm3bCA8P59uvv+bNQoX4CRgPlAC+BLo947pWwGeAO2CTkMC+WrUM+CmFEOlkwYNsioyMpHnz5pw/fz5XHsPZvn07vr6+WFpa4ufnR6NGjQxynfRF1+fPn8/27dvp1KkTgwYNwt3dPVe6e5VSlClThkOHDuHg4GDw6+U2pRRXr17l+PHjWX5OnDhBqVKlqFWrVpaf6tWrZ4ypPsudZs0o8ccfmOWkMI0GPD1h9eqcHC2EyCYJ3Rzo2LEjrVq14v333zfYNY4fP86YMWM4ffo006ZNo0uXLrk21nnjxo2MVY+UUhmrHpUtW9Zg17x48SIuLi5cu3Ytz4/p/vvvv0RGRj4SsGZmZtSuXTtLuNasWRNra+scXSclJYUpU6awa8YMQuPjKfxgfDdbrKxgxw6oXz9HNQghskdCNwf27t1Lz549OXPmTJbHOPTh6tWrTJgwgZCQED777DN8fHwoWrSoXq/xvJRS7NmzhwULFrBmzRqaNWvGwIEDadWq1Yt/7oeWnrt49y7brl9nwJ9/gr29Xuo3tLi4OE6cOPFIuMbFxT3Scq1Vq5Zel2qMjIykX79+2NnZMX/+fBzWrwdfX4iPf/6TWFmBnx/4+OitLiHEMxhn9sm8r0mTJmrJkiV6O19cXJyaOHGiKlWqlPL19VW3b9/W27n1IX3VI1dXV1WhQgU1bty4nK169JSl55ILF9Zt8/TU7WciEhMT1ZEjR9TSpUvV2LFjVfv27VWlSpWUpaWlqlOnjurTp4+aNm2a2rhxo4qOjlZardZgtaSmpqqpU6cqOzs7NXfu3KzXes5VhpRG88hiB0KI3CEt3RzasmUL//vf/zi6bRuFFi9+7GLhz9NiS0tLIygoiPHjx9OkSRO+/vprKlWqlAufIOeOHTvGggUL+Pnnn3njjTcYOHAgnp6ez76L2t9f1xpLSNB9/T+JRqO7ozaXW2GpqamcPXs2S6s1MjKS8+fP88orrzzScn3llVcwM8vRSGqOnD59Gm9vbywtLQkMDMTJyenRnSIidHMph4bqfo+Z52S2tNT93tu0gbFjpUtZCCOQ0M0hdeAAf7RsSZP4eN0Xb+bnXdO/3Fq31n25ubg89hxbtmzJmOfWz88PV1fXXKpePxITE1m7di3z58/n0KFD9OzZk0GDBuHs7Jxlv6FDh1Lh8mU+//13k+j+VEpx8eLFR7qFT58+zUsvvfRIuFarVg1zc3O91pAdWq2WWbNm8fXXX/PFF1/g4+Pz7IUrbt7Udd8fO8bvq1dTz8MD6zffBG/vPNN9L0R+JKGbEw9abNqEBArloMV25MgRRo8eTXR0NN988w0dOnTI0zcPOTk5ce3aNZRSpKSkYGVlRceOHfnxxx+xtbWF8HBo2jR7gZvuBW70UUpx48aNR8I1MjKSEiVKPBKuNWrUoHjx4tmv0YDOnj1L//79UUqxcOFCqlSpku1zuLq68sMPP9CgQQMDVCiEyA793gVUEKR3kcbHP/Eh56ZAb2CQUrqg8fUF4HKHDnz++eds3LiR8ePHM3jwYIoUKZJLhRvWhg0b8PDw4Pbt23z//ff4+fkRHBxMz5498Tt3jtIJCY/OgvQ80peee8YjLXfu3HnsHcNpaWkZdwzXrVuXvn37UrNmTUqVKpWjz5lbtFotAQEBjB8/nk8//ZThw4fnuCvbxsaGO3fu6LlCIUROSOg+pGnTphw5coRr16492qUYHp79O0QB4uNJHj6cvp98guv77xMVFZXjx0RMXalSpZg4cSJt27bFzc0NBysrRv75J47AJCAG6INuruBUdJMzBADpT+Y2BRoDvwNHgYZKsWzjRuxu3gR7e8LCwhg+fDhnzpyhePHiODk5cfXqVWJiYqhZs2ZGq7VDhw7UqlWLcuXK5blehIsXLzJgwADu3bvHrl27qF69+gudz9bWlpgHcysLIYxLQjeTCxcu8Oeff2Jtbc26devw8vLKusOUKVlvTMmGwikprG/enKJffaX3x4xMkaurKw4ODlS4epV/ChWCB0sMaoH+wCogDRgAfEDWZeiWAZvQTdDfGpiWnEzNt99m4v37XLhwAScnJzp16oSFhQW//PILv//+O3Xr1n32OKeJS+9C/vjjjxk5ciRjxozRy38r0tIVwnTk/2//bFi8eDFubm40aNCARYsWZYSut7c3xQoV4sLatexUitfQBUPlB8f9BnwIXEXXiss8yhsEzANcgUWbN/P+mDFMmj6dwMBAvv32W65du4arqytz587F0dExlz5p7ihfvjy3z5/PCFyA0kCXTPt8hm51nMz6A9Ue/LkbsE4phpUqxbFWrbh27RpLly7N2Pfy5ctERkZSP4/fiXvlyhXee+89rl69yu+//05tPc6FLKErhOmQ0M1k8eLFjBo1igYNGuDm5sb169czZmFavmIFmwsXpm5yMv3QhcUKdMundQECgY7Aj+i6S/tkOu9+oDtww8KCFDs7QkJCmDx5MuvXr6dq1apMnTqVHj16sGfPnmfWqJQiLS2NlJQUkpOTH/vP3H7v6tWr+Pj4YGlpmeW9K1eu8HAUxgMjgc3oupoB7qFr9aaPWJbLtL8VEAc4WVuTkJDA6tWr2bhxY8b7KSkpvP32w7GddyilWLZsGaNGjcLHx4fPPvtM7+P8ErpCmA4J3Qd27dpFdHQ03bp1w87OjsqVK7Ns2TJGjhwJQOfy5XE9exaAXsCoB8eFAq8BXR+8HgF899C5y6NrCZOYyJ65cxmamEjZsmUZOXIkKSkpJCUlsX//fmrVqoVGo3lm0JmZmVGkSBGKFi1KkSJFsvz54X8+7b0n7VO8ePFsnefdd99l5MiRvPnmmxnbTp48SYcOHejfogU/bN2a8bv4DjiN7i8i5YDDQB0eXYbuEba2VKxYkT59+jBv3rwc/Bs2PdevX8fHx4eoqCg2bdpE3bp1DXIdW1tboqOjDXJuIUT2SOg+sGjRIlq2bImdnR0APXv2ZNGiRRmhWy7TzTjprS+AK2RdHFzDo4uFZ379SqlSFLl5k6ioKM4+CHGNRkPhwoUZNWoULi4uzww7Uxu7NDc3p1q1ajg7O3P37l127tzJ8OHD6d27N/Vq1YJt2zK6mO8BloANcBuY+DwXKFQIatemd/fuuLi4sGXLFjw8PEhJSWHfvn1UqVIlzy2SEBwczIcffkj//v1Zvny5QZ8DtrGxkRuphDARErpAQkICq1atIi0tjXLldJ2bSUlJ3LlzhyNHjuh2esKX4kvoFg5Ppx56DVkXDHeoVYvXrl+nb9++9OrVS0+fwPjat29P4cKFKVSoEK+99hqjRo1i6NCh8O+/uglCHhiBbsF1O3Q9AP8j601Uj6O0Wva++ipuDg6sXbuWMWPG0KNHD8zMzHB1dcXf399gn0vf/v33X4YNG8bhw4cJCQnBzc3N4NeU7mUhTIeELhASEoKZmRnHjh3LsrhAt27dWLx4se5F2bJw9mzWmaeAtujuvl0DdABmA9eecB2thQWFatdmqKcnn3/+OW+88QY1a9YkNjaWrVu3Pnq3dB5x4cKFJ79ZpgxBHTtCSAgoRXkg7KFdhmT688Pv9dNoaOzsTJvRo7GaMIHhw4ezZcuWZ085aYLWrVvH0KFD6d69OwsXLsyVpSFBQlcIU2Ja/ZRGsmjRIvr378/LL79MuXLlMn4++OADli5dSmpqqm4+5cewA4KBT9DdmXsG3bOnj5OcmEi30FA0Gg2+vr50796dkiVLUqtWLTZt2mSQz2YSxo7VzcyVAxpLSyrPn8/JkyeZMmUKK1euxNHRkc8//5wrV67ouVDDuHPnDv369WPkyJGsXLmS6dOn51rggm5MV0JXCBNhlGUW8ipPz2ev4PKUlV1SO3ZUS5YsUQ0bNlQODg5q4sSJ6vLly8b+VLkjfQWc7PzOnrASzqlTp9SwYcOUra2t6tGjh9q3b58RPtDz2bRpk3JwcFDvv/++unfvnlFquHbtmrK3tzfKtYUQWUnoZseBA9kPjswBEh6ecarDhw+rIUOGKBsbG9W1a1e1fft2gy4JZxL0vPRcTEyMmj59uqpUqZJydXVVS5cuVUlJSbn0YZ7u7t276r333lOOjo5q27ZtRq0lISFBFSlSJP//9yVEHiChm116bLEppVundvbs2apmzZrq1VdfVTNmzDC5tXT1Kjxcqc6ddevmWlpm+T3dB6U1N9e9n+kvKM+SmpqqQkJCVLNmzVT58uXVl19+qa5fv27AD/F027dvV05OTmrQoEEqNjbWaHVkZmFhoe7fv2/sMoQo8CR0c8IAi4VrtVq1c+dO1aNHD2Vtba0GDBigwrMRPHnOjRtKffONUn36KNWunVJ9+qhZL7+sdq5e/UKnPXr0qBo0aJCysbFR/fr1UwcPHtRTwc8WFxenhg0bphwcHFRoaGiuXfd5lCtXruAMZQhhwuRGqpzw8dEtN+fpCRYWj94kZGmp2+7pqdvvOdaD1Wg0NG7cmGXLlhEVFUXVqlXx8vLCxcWFwMBA4nOyLJ4ps7eH0aNh8WJYvx4WL+Zqr15sPXTohU5bu3Zt5s2bx99//0316tXp0KEDb731Fr/88ovuhjgD2bVrF6+//jp3797l6NGjtG7d2mDXyglZ9EAI0yDr6b6oTIuFExMDtrZQu7ZeFgtPS0tj8+bN+Pv7s2/fPvr06cPQoUN59dVX9VK6qfntt9+YOHEiu3bt0ts5U1NT+fXXX/n++++5dOkSw4YNY9CgQXpb2i8hIYFx48axfPly/P396dixo17Oq2+NGjXi22+/xd39SffWCyFyg4RuHnHhwgXmzp1LYGAgNWvWxMfHh44dO+ab9XgB4uPjKVOmDNevX6dYsWJ6P/9ff/3FrFmzWLduHd26deOjjz6iZs2aOT7f/v378fb2xtnZmdmzZ2fMZmaK2rRpw7Bhw2jbtq2xSxGiQJPu5TzCycmJyZMnEx0dzaBBg5g1axaOjo6MHz+ef/75x9jl6YWVlRV16tRh9+7dBjl/vXr1WLRoEadOnaJChQq0aNECDw8P1q9fT1pa2nOfJykpiU8//ZQOHTowceJEVq5cadKBCzJBhhCmQkI3jzE3N6dHjx7s3LmTrVu3cvv2bZydnenUqRNbt25Fm2kZvbzo7bff5o8//jDoNcqWLcv48eO5cOEC3t7efPnll1SrVo2ZM2cSGxv71GMPHTqEi4sLJ06c4MiRI3Tr1s2gteqLTJAhhGmQ0M3DatWqxY8//sjFixdp3bo1Y8aMoVq1avj5+fHvv/8au7wcyY3QTVe0aFF69+7NgQMH+Pnnn9m/fz+VKlXiww8/JCoqKsu+KSkpTJw4kVatWjF69Gh+/fXXjHm68wJZ9EAI0yChmw8UL16cIUOGcOjQIZYsWcLRo0epXLkyffv2Zd++feSlYfuGDRty/Phx7t27l2vX1Gg0NGzYkOXLl3Ps2DFKlizJm2++Sdu2bdmyZQvHjh3Dzc2Nffv2cejQIfr06YNGo3n2iU2IdC8LYRokdPOR9PBYvHgxf//9N87OzvTu3Zu6desyd+5c4uLinn0SI7OwsMDFxYU///zTKNevUKECX3/9NdHR0XTq1Alvb2/q1KlDjRo1WLVqFRUqVDBKXS9KQlcI0yChm0/Z2dnh6+tLVFQUU6dOJTQ0lJdffpkPPviAyMhIY5f3VLnZxfwk0dHRLFiwgBo1arB06VLi4+OpVKkSvr6+nD9/3qi15YSM6QphGiR087lChQrRqlUrQkJCOHLkCKVKlaJFixY0adKEFStWkJycbOwSH2HM0E1LS2P69Om8+eab9OnTh23btvHuu++yZs0aIiIi0Gg0uLi44OnpSVhYWFHWMkwAAA1HSURBVJ7pupcxXSFMgzynWwClpKQQEhKCv78/J06cYMCAAQwZMgRHR0djlwboHsmxs7Pj0qVL2NjY5Np1z549i7e3NwALFy6kSpUqj93v/v37LF68mFmzZlG0aFE++ugjevbsmavL9WVXREQEQ4YM4a+//jJ2KUIUaNLSLYCKFCmCl5cXv//+O2FhYcTHx1O3bl3at29PaGhotp5ZNQRzc3Pc3NzYuXNnrlxPq9Xy008/0aBBAzp37kxYWNgTAxegWLFi+Pj4cOLECb799lt+/fVXHB0d+fTTT032mWkZ0xXCNEjoFnDVq1dn5syZXLx4kU6dOjF+/HiqVKnC1KlTuXHjhtHqyq0u5ujoaFq2bMnixYvZtWsXI0eOxMzM7LmO1Wg0tGzZkg0bNrB7927i4uJwdnbm3XffZc+ePSbV9SxjukKYBgldAehabwMHDiQiIoJVq1YRFRXFq6++Sq9evdi1a1euB4ihQ1cpxfz586lfvz4eHh7s2rWL6tWr5/h8VatWZdasWVy4cIFGjRrRt29fXF1dWbJkCUlJSXqsPGesra2JjY01qb8ICFEQyZiueKKYmBgWLVqEv78/RYsWxcfHh969e1OyZEmDXzslJYXSpUtz/vx5SpcurddzX758mffee49r166xePFiatWqpdfzg67LOjQ0lO+//57jx48zdOhQhgwZYtQJNUqUKMHly5dz5d+fEOLxpKUrnsjW1pYRI0Zw6tQpZs6cye+//46TkxM+Pj4cPXrUoNcuUqQI7u7u/2/v7oOqKhM4jn9vXeReVFSmSE15cbSZNDEsgc11sKIS0hK2Ft8ym7By0lgLxjGzZpqCxdxxyspmaUKRWQtzFnDFNmOCP2p8Y3HCmpFV1jSGQHYdsy4EXp794yB7yfAF7z2y+vvMnPFcznPOec5x4HfPc57zHKqqqvy2TWMMmzdvJjY2lvj4ePbs2ROQwAWr1/jMmTPZtWsXFRUVNDY2cuutt7Jw4cIr1plJ93VFrjyFrlyQw+Hg3nvv5eOPP+bgwYOMGDGClJQUpk6dSlFREW1tbQHZrz+bmJuamkhNTWXNmjV88sknvPLKK7a9oWn8+PG89957HDlyhIkTJ5KWlsbUqVMpLi6mo6PDljqA7uuK9AcKXbkkI0eO7H5ZQFZWFoWFhURERLBixQrq6+v9ui9/hW5xcTGTJk1i/Pjx7N+/n8mTJ/uhdpcuLCyM7Oxsjhw5wgsvvMA777zDmDFjyM3NpaWlJeD715WuyJWn0JU+cTqdpKam8umnn/LFF1/g9XqJi4sjOTmZsrIyvzx2FBsby3fffdfnXtQtLS2kp6fz8ssvU1paSk5ODsHBwZddr8vldDpJS0ujqqqKsrIy6urqGDduHBkZGdTW1gZsvxogQ+TKU+jKZRs3bhxr167l+PHjzJkzh5ycHKKjo3n99df5/vvv+7xdp9PJzLg4Gp9/HhYsgFmzrH/XrIETJ867bmlpKTExMYwaNYqamhri4+P7XI9Aio2NpaCggEOHDhEVFcWMGTO45557KCkp8fvz0rrSFbny1HtZAqKmpoYNGzawdetW7r//fpYsWUJiYuLFv51n3z7IzeXM9u10GsMA3wByu8EYSE6GlSthypTuRSdPniQzM5Mvv/ySgoICpk2b5ucjC6z29na2bdvGm2++SVNTE0uXLuXJJ5/0y8hcmZmZjBkzhszMTD/UVET6QqErAXXq1CkKCwvZsGEDAM888wwLFy48f4hs2ABZWdDaaoVrbxwOK4DXroUlS9i5cyeLFy9m9uzZ5OXlMXDgQD8fjb327NnDW2+9xc6dO5k7dy7Lli3r+7PEzc18Om8eNzU3MykyEoYMgZgYeOIJuPFG/1ZcRHpnRGzQ2dlpKisrTXp6uhkyZIjJyMgw1dXV5xZ8911jQkKMseL2oqZOt9sU3nWXiYyMNJ999ln3phITE01+fr6NRxkYDQ0NZvXq1SY8PNw88MADpry83Hi93otbee9eY1JTjXG5THtQUM9z53Yb43JZy/fuDexBiIgxxhiFrvhdZGSkcblcZuDAgWbo0KEmJSXFHDt2rHt5Y2Ojee2110xERISJi4szBQUFxuPxWH/4LzFwz05tTqc5/fnnPepxtYTuWa2trWbjxo0mNjbW3HLLLWb9+vXmhx9+6H2Fs19gHI7znz+Hwyr37rv2HYzINUodqSQgtm/fzo8//khjYyM33XQTy5Yt6142fPhwVq1aRX19PS+99BLFxcWMHj2a2nnzMK2tfdpfsNfLoPXrAWsQjM7OTr8cR3/icrl4/PHHqa6u5v3336eqqoqoqCiWL19+7uNaZ5voPZ7zNtEfBRzGcMbjscp33QYQkcBQ6EpAuVwuHnnkEb755hvAem1fVlYWERERjBw5kh07drBt2zb2l5fz6OHD7PAJiDPADcA/uj7vBu4ChgKTgEqf/Uw3hlWlpUyNiyMkJKRHCP3888+EhYX1eBynubkZt9vNiQv0gu6PHA4H06ZNY+vWrdTU1DBgwADi4+N5+OGHqaiowOzdS9Szz+L2eBgE3dPSC234bPDu3x/wYxC5Vil0JaA8Hg8fffQRCQkJAKxYsYK6ujoOHDjA4cOHaWho4NVXXyWqspJ5TidbfNb9O1boTgYagAeBl4D/AGuB3wG+kbm5s5M/T5vG6dOne7wbODg4mDlz5lBUVNT9sy1btpCUlMSN/+ediCIiIsjLy+Pbb7/lwQcfJDMzk4qkJDCG7cCPPtPbF7PB1lbIzQ1klUWuaQpdCYjZs2czdOhQQkND2bVrF9nZ2RhjyM/PZ926dYSFhTF48GBefPFFPvzwQ/jqK+adOUMZ4Onaxl+AeV3zRUBK13QdcB9wJ1Dus89FxnDDwYNUV1dTW1vLTz/9RGNjI/X19cyYMYOioiJaWlo4ffo0hYWFzJ8/36azEXghISE89dRT1FZUcPd5huX0AllYX2bGADt+WcAYKC+/4HPQItI3zitdAbk6lZSUkJSUhNfrpbS0lMTERA4cOIDH4+GOO+7oLmeMsQaBOHWKscCtwHZgFlAG1HSV+xbY2rXsrA7gbp/Po4F/7tvHC889R3t7O3V1dRw/fpwPPviAjo4OmpqaiI6Oxuv10trayty5c5k/fz5BQUEEBQUxYMCA7vlffu5t/kovczqdPZ59dmzaZL0PuJcxnfOBv3Wd14FYrQXncDhg40bIzr74/3ARuSgKXQmo66+/nrS0NJ5++ml2796N2+3m66+/5uabb+5ZcMECAOYCW4BOYDwwtmvxaOAxrNDojQP47cyZ7CksBGD69OksWLCAjIwMAHJzczl8+DDDhw+nqamJ/Px8vF4vHR0d3VN7e/uvzl/OMo/H49dt+s57vd4egZzf1sajXe/vnU3PX/A3gGLgD13nE2AlPe+NA1YTcwCHoxS5lil0JaCMMZSVlXHy5EkmTJjA4sWLWb58OW+//Tbh4eE0NDRw8OBBHoiJgW3bmNPWxiqs+7bzfLazAJiCdZ83CesqdzdWKI86WygoCCZO7LUujz32GDExMQwePJjNmzfjcDhwOp04nU7cbncAjj7wOjs7ewS1Oz0ddu0CoATrXPn6E/8LXIBIeqExmkUCQvd0JSBmzZrFoEGDCA0NZdWqVWzatIkJEyaQl5fH2LFjSUhIIDQ0lKSkJA4dOgSLFgEwAvgN8CWQ7rO90UApkAPc2PX5Dawr4m7GdG/n14waNYrJkyd39/69Glx33XUEBwczaNAghg0bhis8/LzlRwDHfT4f663gsGF+qqGI+NKVrvjd0aNHe13mcrnIyckhJyfn3IXJyVBSQkUvz5XGA7290r7S4YCHHuoxpGFlZeU55SIiIkhISLj4MaD/33S1GNBLZ6rfA28BM7Hu6f7x1wq53edtMRCRvtPYy9J/7NsH06dbz4teqpAQqKqCO+/stcjRo0e5/fbbqampITo6uu/17M+amyEykqi2NpqA630W3YfVGS0bKARCsXoyL8Vqru/+Bu5ywbFjGpNZJADUvCz9x5Qp1ssLQkIubb2QEGu98wTu6tWrue2228jOzr56AxcgPBySkznqcNBKz+d0/4oVrOuAfwP/Ap4FDD6B63BASooCVyRAdKUr/U8f3zIkXQLcYiAifacrXel/liyx/vCnplpNnb/sWex2Wz9PTbXKKXB7CmCLgYhcHl3pSv924oQ1UENtrfUYy7BhViefRYvUBHohajEQ6XcUuiJXs/37rbGUy8utcPV9i5PbbYVxSgqsXKkrXBEbKHRFrgVqMRDpFxS6IiIiNlFHKhEREZsodEVERGyi0BUREbGJQldERMQmCl0RERGbKHRFRERsotAVERGxiUJXRETEJgpdERERmyh0RUREbKLQFRERsYlCV0RExCYKXREREZsodEVERGyi0BUREbGJQldERMQmCl0RERGbKHRFRERsotAVERGxiUJXRETEJgpdERERmyh0RUREbKLQFRERsYlCV0RExCYKXREREZsodEVERGyi0BUREbGJQldERMQmCl0RERGbKHRFRERsotAVERGxyX8B09GIWx16qcUAAAAASUVORK5CYII=\n",
      "text/plain": [
       "<Figure size 432x288 with 1 Axes>"
      ]
     },
     "metadata": {},
     "output_type": "display_data"
    }
   ],
   "source": [
    "nx.draw(H, with_labels=1)\n",
    "plt.show()"
   ]
  },
  {
   "cell_type": "markdown",
   "metadata": {},
   "source": [
    "### Thank you"
   ]
  }
 ],
 "metadata": {
  "kernelspec": {
   "display_name": "Python 3",
   "language": "python",
   "name": "python3"
  },
  "language_info": {
   "codemirror_mode": {
    "name": "ipython",
    "version": 3
   },
   "file_extension": ".py",
   "mimetype": "text/x-python",
   "name": "python",
   "nbconvert_exporter": "python",
   "pygments_lexer": "ipython3",
   "version": "3.7.3"
  }
 },
 "nbformat": 4,
 "nbformat_minor": 2
}
